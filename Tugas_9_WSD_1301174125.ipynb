{
  "nbformat": 4,
  "nbformat_minor": 0,
  "metadata": {
    "colab": {
      "name": "Tugas_9_WSD_1301174125.ipynb",
      "provenance": [],
      "collapsed_sections": []
    },
    "kernelspec": {
      "name": "python3",
      "display_name": "Python 3.9.0 64-bit",
      "metadata": {
        "interpreter": {
          "hash": "8da01e5a71448ea74f54d88afa8911010d1d12e23bc7e103d40d5def4a09152c"
        }
      }
    }
  },
  "cells": [
    {
      "cell_type": "markdown",
      "metadata": {
        "id": "JSSwRPjNJ3A2"
      },
      "source": [
        "Word Sense Disambiguation."
      ]
    },
    {
      "cell_type": "code",
      "metadata": {
        "id": "b_lPxeVcH_tW",
        "colab": {
          "base_uri": "https://localhost:8080/"
        },
        "outputId": "4f719f41-5bd4-40cf-e15e-f10e4d01804b"
      },
      "source": [
        "import nltk\n",
        "nltk.download('punkt')"
      ],
      "execution_count": 1,
      "outputs": [
        {
          "output_type": "stream",
          "name": "stderr",
          "text": [
            "[nltk_data] Downloading package punkt to\n",
            "[nltk_data]     C:\\Users\\ASUS\\AppData\\Roaming\\nltk_data...\n",
            "[nltk_data]   Unzipping tokenizers\\punkt.zip.\n"
          ]
        },
        {
          "output_type": "execute_result",
          "data": {
            "text/plain": [
              "True"
            ]
          },
          "metadata": {},
          "execution_count": 1
        }
      ]
    },
    {
      "cell_type": "markdown",
      "metadata": {
        "id": "alfv0cAlCN0e"
      },
      "source": [
        "# Kata: Genting, Bunga, Apel"
      ]
    },
    {
      "cell_type": "code",
      "metadata": {
        "id": "hUhfjKQfDuEu"
      },
      "source": [
        "genting = []\n",
        "# Inisiasi sense pertama untuk genting\n",
        "# a.01.Genting: tegang; berbahaya (tentang keadaan yang mungkin segera menimbulkan bencana perang dan sebagainya): setelah perundingan menemui jalan buntu\n",
        "glossGenting1a = [\"a.01.Genting:\",\"tegang\",\"berbahaya\",\"keadaan\",\"bencana\",\"perang\",\"perundingan\",\"buntu\"]\n",
        "genting.append(glossGenting1a)\n",
        "# Inisiasi sense kedua untuk genting\n",
        "# n.02.Genting: tutup atap rumah yang terbuat dari tanah liat yang dicetak dan dibakar, bermacam-macam bentuknya\n",
        "glossGenting2n = [\"n.02.Genting:\",\"tutup\",\"atap\",\"rumah\",\"tanah liat\",\"dicetak\",\"dibakar\"]\n",
        "genting.append(glossGenting2n)\n",
        "\n",
        "bunga = []\n",
        "# Inisiasi sense pertama untuk bunga\n",
        "# n.01.Bunga: bagian tumbuhan yang akan menjadi buah, biasanya elok warnanya dan harum baunya; kembang: bunga mangga; bunga rambutan\n",
        "glossBunga1n = [\"n.01.Bunga:\",\"tumbuhan\",\"buah\",\"elok\",\"warnanya\",\"harum\",\"kembang\"]\n",
        "bunga.append(glossBunga1n)\n",
        "# Inisiasi sense kedua untuk bunga\n",
        "# n.02.Bunga: imbalan jasa untuk penggunaan uang atau modal yang dibayar pada waktu tertentu berdasarkan ketentuan atau kesepakatan, umumnya dinyatakan sebagai persentase dari modal pokok\n",
        "glossBunga2n = [\"n.02.Bunga:\",\"imbalan\",\"jasa\",\"penggunaan\",\"uang\",\"modal\",\"dibayar\",\"waktu\",\"ketentuan\",\"kesepakatan\",\"persentase\",\"modal\",\"pokok\"]\n",
        "bunga.append(glossBunga2n)\n",
        "\n",
        "apel = []\n",
        "# Inisiasi sense pertama untuk apel\n",
        "# v.01.Apel: Suatu upacara resmi (bersifat kemiliteran) untuk diketahui hadir tidaknya atau untuk mendengar amanat\n",
        "glossApel1v = [\"v.01.Apel:\",\"upacara\",\"resmi\",\"kemiliteran\",\"hadir\",\"amanat\"]\n",
        "apel.append(glossApel1v)\n",
        "# Inisiasi sense kedua untuk apel\n",
        "# n.02.Apel: buah apel\n",
        "glossApel2n = [\"n.02.Apel:\",\"buah\",\"apel\"]\n",
        "apel.append(glossApel2n)"
      ],
      "execution_count": 2,
      "outputs": []
    },
    {
      "cell_type": "markdown",
      "metadata": {
        "id": "J3FIa_UjCcp9"
      },
      "source": [
        "# LESK"
      ]
    },
    {
      "cell_type": "code",
      "metadata": {
        "id": "ZpaQTqS_-y3u"
      },
      "source": [
        "def hitungoverlap(tokens,signature):\n",
        "  count = 0\n",
        "  for word in tokens: # Looping untuk kalimat uji\n",
        "    for k in range(len(signature)): # Looping untuk definisi sense\n",
        "      if word == signature[k]:\n",
        "        count = count + 1\n",
        "  return count"
      ],
      "execution_count": 3,
      "outputs": []
    },
    {
      "cell_type": "code",
      "metadata": {
        "id": "OnsR6okL51bo"
      },
      "source": [
        "# Algoritma Simple Lesk\n",
        "def carilesk(kata,kalimatuji):\n",
        "    tokens = nltk.word_tokenize(kalimatuji)\n",
        "    bestsense = 0\n",
        "    maxoverlap = 0\n",
        "    for i in range(len(kata)):\n",
        "      signature = kata[i]\n",
        "      overlap = hitungoverlap(tokens,signature)\n",
        "      if overlap > maxoverlap:\n",
        "        maxoverlap = overlap\n",
        "        bestsense = i\n",
        "    return bestsense    "
      ],
      "execution_count": 4,
      "outputs": []
    },
    {
      "cell_type": "markdown",
      "metadata": {
        "id": "H-vMnCYgClSV"
      },
      "source": [
        "# Menentukan Sense dengan Algoritma lesk (PENGUJIAN)"
      ]
    },
    {
      "cell_type": "markdown",
      "metadata": {
        "id": "azm0ogQ9EWP3"
      },
      "source": [
        "## Kata : Genting"
      ]
    },
    {
      "cell_type": "code",
      "metadata": {
        "colab": {
          "base_uri": "https://localhost:8080/"
        },
        "id": "00oYLzKZ81ZE",
        "outputId": "d51d8935-b5b6-4961-ae0f-8971d8817773"
      },
      "source": [
        "print(\"Kata 1 = GENTING\")\n",
        "ujigenting1 = \"bencana alam yang terjadi membuat genting masyarakat desa\"\n",
        "hasil = carilesk(genting,ujigenting1)\n",
        "print(\"Kalimat uji pertama:\", ujigenting1)\n",
        "print(\"Sense:\", genting[hasil])\n",
        "\n",
        "ujigenting2 = \"kakek mengganti genting rumah karena bocor saat hujan\" \n",
        "hasil = carilesk(genting,ujigenting2)\n",
        "print(\"Kalimat uji kedua:\", ujigenting2)\n",
        "print(\"Sense:\", genting[hasil])"
      ],
      "execution_count": 5,
      "outputs": [
        {
          "output_type": "stream",
          "name": "stdout",
          "text": [
            "Kata 1 = GENTING\nKalimat uji pertama: bencana alam yang terjadi membuat genting masyarakat desa\nSense: ['a.01.Genting:', 'tegang', 'berbahaya', 'keadaan', 'bencana', 'perang', 'perundingan', 'buntu']\nKalimat uji kedua: kakek mengganti genting rumah karena bocor saat hujan\nSense: ['n.02.Genting:', 'tutup', 'atap', 'rumah', 'tanah liat', 'dicetak', 'dibakar']\n"
          ]
        }
      ]
    },
    {
      "cell_type": "markdown",
      "metadata": {
        "id": "JAG-9-qBEbHN"
      },
      "source": [
        "## Kata : Bunga"
      ]
    },
    {
      "cell_type": "code",
      "metadata": {
        "colab": {
          "base_uri": "https://localhost:8080/"
        },
        "id": "dH_cc4lCD7jN",
        "outputId": "b18a7704-4aa3-44b8-ced3-b825da56a21a"
      },
      "source": [
        "print(\"Kata 2 = BUNGA\")\n",
        "ujibunga1 = \"ibu mendapat bunga dari modal di bank\"\n",
        "hasil = carilesk(bunga,ujibunga1)\n",
        "print(\"Kalimat uji pertama:\", ujibunga1)\n",
        "print(\"Sense:\", bunga[hasil])\n",
        "\n",
        "ujibunga2 = \"ibu merawat tumbuhan bunga di rumah selama pandemi\"\n",
        "hasil = carilesk(bunga,ujibunga2)\n",
        "print(\"Kalimat uji kedua:\", ujibunga2)\n",
        "print(\"Sense:\", bunga[hasil])"
      ],
      "execution_count": 6,
      "outputs": [
        {
          "output_type": "stream",
          "name": "stdout",
          "text": [
            "Kata 2 = BUNGA\nKalimat uji pertama: ibu mendapat bunga dari modal di bank\nSense: ['n.02.Bunga:', 'imbalan', 'jasa', 'penggunaan', 'uang', 'modal', 'dibayar', 'waktu', 'ketentuan', 'kesepakatan', 'persentase', 'modal', 'pokok']\nKalimat uji kedua: ibu merawat tumbuhan bunga di rumah selama pandemi\nSense: ['n.01.Bunga:', 'tumbuhan', 'buah', 'elok', 'warnanya', 'harum', 'kembang']\n"
          ]
        }
      ]
    },
    {
      "cell_type": "markdown",
      "metadata": {
        "id": "hwqtF2FhEbnC"
      },
      "source": [
        "## Kata : Apel"
      ]
    },
    {
      "cell_type": "code",
      "metadata": {
        "colab": {
          "base_uri": "https://localhost:8080/"
        },
        "id": "MEz0gwqKEAmv",
        "outputId": "535becd1-b19b-42fa-8515-bf96b0122e39"
      },
      "source": [
        "print(\"Kata 3 = APEL\")\n",
        "ujiapel1 = \"ayah memakan buah apel dan pisang\"\n",
        "hasil = carilesk(apel,ujiapel1)\n",
        "print(\"Kalimat uji pertama:\", ujiapel1)\n",
        "print(\"Sense:\", apel[hasil])\n",
        "\n",
        "ujiapel2 = \"ayah hadir melaksanakan upacara apel di pagi hari\"\n",
        "hasil = carilesk(apel,ujiapel2)\n",
        "print(\"Kalimat uji kedua:\", ujiapel2)\n",
        "print(\"Sense:\", apel[hasil])"
      ],
      "execution_count": 7,
      "outputs": [
        {
          "output_type": "stream",
          "name": "stdout",
          "text": [
            "Kata 3 = APEL\nKalimat uji pertama: ayah memakan buah apel dan pisang\nSense: ['n.02.Apel:', 'buah', 'apel']\nKalimat uji kedua: ayah hadir melaksanakan upacara apel di pagi hari\nSense: ['v.01.Apel:', 'upacara', 'resmi', 'kemiliteran', 'hadir', 'amanat']\n"
          ]
        }
      ]
    },
    {
      "cell_type": "code",
      "execution_count": null,
      "metadata": {},
      "outputs": [],
      "source": []
    }
  ]
}