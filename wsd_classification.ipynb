{
  "nbformat": 4,
  "nbformat_minor": 0,
  "metadata": {
    "colab": {
      "name": "wsd_classification.ipynb",
      "provenance": [],
      "include_colab_link": true
    },
    "kernelspec": {
      "name": "python3",
      "display_name": "Python 3"
    }
  },
  "cells": [
    {
      "cell_type": "markdown",
      "metadata": {
        "id": "view-in-github",
        "colab_type": "text"
      },
      "source": [
        "<a href=\"https://colab.research.google.com/github/rickylukman/Pemrosesan-Bahasa-Alami/blob/main/wsd_classification.ipynb\" target=\"_parent\"><img src=\"https://colab.research.google.com/assets/colab-badge.svg\" alt=\"Open In Colab\"/></a>"
      ]
    },
    {
      "cell_type": "markdown",
      "metadata": {
        "id": "JiWgeRdXFECE"
      },
      "source": [
        "Tutorial Pekan Ke-9, Word Sense Disambiguation\n",
        "\n",
        "Metode: *supervised learning*\n",
        "\n",
        "Referensi klasifikasi teks dengan Naive Bayes: https://towardsdatascience.com/naive-bayes-document-classification-in-python-e33ff50f937e"
      ]
    },
    {
      "cell_type": "code",
      "metadata": {
        "id": "eFkcWrYpElv7"
      },
      "source": [
        "# import pandas library as pd \n",
        "import pandas as pd "
      ],
      "execution_count": null,
      "outputs": []
    },
    {
      "cell_type": "markdown",
      "metadata": {
        "id": "bHHucgW5Ezv5"
      },
      "source": [
        "Pendefinisian data\n",
        "\n",
        "Pada tutorial ini digunakan contoh yang sama dengan yang dicantumkan pada slide perkuliahan pekan ke-9. Label sense diubah menjadi tipe numerik."
      ]
    },
    {
      "cell_type": "code",
      "metadata": {
        "id": "tlhNSOvlE-JM"
      },
      "source": [
        "# create an Empty DataFrame object \n",
        "df = pd.DataFrame() \n",
        "  \n",
        "# append columns to an empty DataFrame \n",
        "# kata target adalah bass\n",
        "df['Words'] = ['fish smoked fish', 'fish line', 'fish haul smoked', 'guitar jazz line', 'line guitar jazz jazz'] # kata-kata yang ada di sekitar kata target\n",
        "df['Sense'] = [0, 0, 0, 1, 1] # sense kata target\n"
      ],
      "execution_count": null,
      "outputs": []
    },
    {
      "cell_type": "code",
      "metadata": {
        "id": "GjE4-UGXFfnf",
        "colab": {
          "base_uri": "https://localhost:8080/"
        },
        "outputId": "261f2643-5af1-42ce-8e2e-3ac188703f10"
      },
      "source": [
        "print(df['Words'])"
      ],
      "execution_count": null,
      "outputs": [
        {
          "output_type": "stream",
          "text": [
            "0         fish smoked fish\n",
            "1                fish line\n",
            "2         fish haul smoked\n",
            "3         guitar jazz line\n",
            "4    line guitar jazz jazz\n",
            "Name: Words, dtype: object\n"
          ],
          "name": "stdout"
        }
      ]
    },
    {
      "cell_type": "code",
      "metadata": {
        "id": "4dkqUnN2Fk1m",
        "colab": {
          "base_uri": "https://localhost:8080/"
        },
        "outputId": "7b85ccce-d72b-40ac-e753-af0b735e62a4"
      },
      "source": [
        "print(df['Sense'])"
      ],
      "execution_count": null,
      "outputs": [
        {
          "output_type": "stream",
          "text": [
            "0    0\n",
            "1    0\n",
            "2    0\n",
            "3    1\n",
            "4    1\n",
            "Name: Sense, dtype: int64\n"
          ],
          "name": "stdout"
        }
      ]
    },
    {
      "cell_type": "markdown",
      "metadata": {
        "id": "6HZpmWAoF2Ik"
      },
      "source": [
        "Split menjadi data latih dan data uji. Pada contoh ini, tidak dilakukan shuffling. Data uji adalah dokumen terakhir, 20% dari keseluruhan data."
      ]
    },
    {
      "cell_type": "code",
      "metadata": {
        "id": "buxt_yJeF_yZ"
      },
      "source": [
        "from sklearn.model_selection import train_test_split\n",
        "X_train, X_test, y_train, y_test = train_test_split(df['Words'], df['Sense'], test_size=0.2, shuffle=False)"
      ],
      "execution_count": null,
      "outputs": []
    },
    {
      "cell_type": "code",
      "metadata": {
        "id": "Uhmtj4LfGDle",
        "colab": {
          "base_uri": "https://localhost:8080/"
        },
        "outputId": "3e698c3e-aebd-47ae-a8e0-eb95134a36eb"
      },
      "source": [
        "print('x_train=')\n",
        "print(X_train)\n",
        "print('y_train=')\n",
        "print(y_train)"
      ],
      "execution_count": null,
      "outputs": [
        {
          "output_type": "stream",
          "text": [
            "x_train=\n",
            "0    fish smoked fish\n",
            "1           fish line\n",
            "2    fish haul smoked\n",
            "3    guitar jazz line\n",
            "Name: Words, dtype: object\n",
            "y_train=\n",
            "0    0\n",
            "1    0\n",
            "2    0\n",
            "3    1\n",
            "Name: Sense, dtype: int64\n"
          ],
          "name": "stdout"
        }
      ]
    },
    {
      "cell_type": "code",
      "metadata": {
        "id": "O3wH4843GHz_",
        "colab": {
          "base_uri": "https://localhost:8080/"
        },
        "outputId": "b56c9d41-a4cc-41de-f6ef-c854e92d423b"
      },
      "source": [
        "print('x_test=')\n",
        "print(X_test)\n",
        "print('y_test=')\n",
        "print(y_test)"
      ],
      "execution_count": null,
      "outputs": [
        {
          "output_type": "stream",
          "text": [
            "x_test=\n",
            "4    line guitar jazz jazz\n",
            "Name: Words, dtype: object\n",
            "y_test=\n",
            "4    1\n",
            "Name: Sense, dtype: int64\n"
          ],
          "name": "stdout"
        }
      ]
    },
    {
      "cell_type": "markdown",
      "metadata": {
        "id": "JNSLOU8bGdF-"
      },
      "source": [
        "Ekstraksi fitur, pembuatan vektor fitur.\n",
        "\n",
        "Fitur yang digunakan adalah frekuensi kemunculan.\n",
        "\n",
        "Pada contoh, terdapat 6 kata dalam vocabulary: {fish, smoked, line, haul, guitar, jazz}"
      ]
    },
    {
      "cell_type": "code",
      "metadata": {
        "id": "QaAVYSJUGyA_"
      },
      "source": [
        "from sklearn.feature_extraction.text import CountVectorizer\n",
        "cv = CountVectorizer(lowercase=True)\n",
        "X_train_cv = cv.fit_transform(X_train)\n",
        "X_test_cv = cv.transform(X_test)"
      ],
      "execution_count": null,
      "outputs": []
    },
    {
      "cell_type": "markdown",
      "metadata": {
        "id": "G6dWu7YAG10Z"
      },
      "source": [
        "Perhatikan hasil transformasi kata-kata menjadi vektor"
      ]
    },
    {
      "cell_type": "code",
      "metadata": {
        "id": "e6kff-R6G68D",
        "colab": {
          "base_uri": "https://localhost:8080/"
        },
        "outputId": "ee5fce6d-a1ca-4e8c-d8ad-907384f14137"
      },
      "source": [
        "print('X train[0]=')\n",
        "print(X_train[0])\n",
        "print('X train vector [0]=')\n",
        "print(X_train_cv[0])\n",
        "print('X train[1]=')\n",
        "print(X_train[1])\n",
        "print('X train vector [1]=')\n",
        "print(X_train_cv[1])\n",
        "print('X train[2]=')\n",
        "print(X_train[2])\n",
        "print('X train vectors [2]=')\n",
        "print(X_train_cv[2])\n",
        "print('X train[3]=')\n",
        "print(X_train[3])\n",
        "print('X train vectors [3]=')\n",
        "print(X_train_cv[3])"
      ],
      "execution_count": null,
      "outputs": [
        {
          "output_type": "stream",
          "text": [
            "X train[0]=\n",
            "fish smoked fish\n",
            "X train vector [0]=\n",
            "  (0, 0)\t2\n",
            "  (0, 5)\t1\n",
            "X train[1]=\n",
            "fish line\n",
            "X train vector [1]=\n",
            "  (0, 0)\t1\n",
            "  (0, 4)\t1\n",
            "X train[2]=\n",
            "fish haul smoked\n",
            "X train vectors [2]=\n",
            "  (0, 0)\t1\n",
            "  (0, 5)\t1\n",
            "  (0, 2)\t1\n",
            "X train[3]=\n",
            "guitar jazz line\n",
            "X train vectors [3]=\n",
            "  (0, 4)\t1\n",
            "  (0, 1)\t1\n",
            "  (0, 3)\t1\n"
          ],
          "name": "stdout"
        }
      ]
    },
    {
      "cell_type": "markdown",
      "metadata": {
        "id": "Z2MV2iwmHFD-"
      },
      "source": [
        "Pelatihan classifier, dengan metode Multinomial Naive Bayes. Kemudian lakukan prediksi terhadap data uji."
      ]
    },
    {
      "cell_type": "code",
      "metadata": {
        "id": "ccO9y-8wHMP9"
      },
      "source": [
        "from sklearn.naive_bayes import MultinomialNB\n",
        "naive_bayes = MultinomialNB()\n",
        "naive_bayes.fit(X_train_cv, y_train)\n",
        "predictions = naive_bayes.predict(X_test_cv)"
      ],
      "execution_count": null,
      "outputs": []
    },
    {
      "cell_type": "markdown",
      "metadata": {
        "id": "J2kINwjtHUEF"
      },
      "source": [
        "Cek hasil prediksi"
      ]
    },
    {
      "cell_type": "code",
      "metadata": {
        "id": "oTHSdMvvHVa_",
        "colab": {
          "base_uri": "https://localhost:8080/"
        },
        "outputId": "65a267da-ef5f-4cd0-8fef-922365ad8363"
      },
      "source": [
        "print('predictions =')\n",
        "print(predictions)"
      ],
      "execution_count": null,
      "outputs": [
        {
          "output_type": "stream",
          "text": [
            "predictions =\n",
            "[1]\n"
          ],
          "name": "stdout"
        }
      ]
    },
    {
      "cell_type": "markdown",
      "metadata": {
        "id": "K8a82zlcHYnE"
      },
      "source": [
        "Evaluasi hasil prediksi"
      ]
    },
    {
      "cell_type": "code",
      "metadata": {
        "id": "tp5ANkLoHaLO",
        "colab": {
          "base_uri": "https://localhost:8080/"
        },
        "outputId": "59f70c1a-f45c-451c-cef1-4fd997180e22"
      },
      "source": [
        "from sklearn.metrics import accuracy_score, precision_score, recall_score\n",
        "print('Accuracy score: ', accuracy_score(y_test, predictions))\n",
        "print('Precision score: ', precision_score(y_test, predictions))\n",
        "print('Recall score: ', recall_score(y_test, predictions))"
      ],
      "execution_count": null,
      "outputs": [
        {
          "output_type": "stream",
          "text": [
            "Accuracy score:  1.0\n",
            "Precision score:  1.0\n",
            "Recall score:  1.0\n"
          ],
          "name": "stdout"
        }
      ]
    },
    {
      "cell_type": "code",
      "metadata": {
        "id": "pgzw_vwfDNod"
      },
      "source": [
        ""
      ],
      "execution_count": null,
      "outputs": []
    }
  ]
}