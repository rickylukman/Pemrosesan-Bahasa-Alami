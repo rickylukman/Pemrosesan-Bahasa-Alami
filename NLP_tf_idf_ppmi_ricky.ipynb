{
  "nbformat": 4,
  "nbformat_minor": 0,
  "metadata": {
    "colab": {
      "name": "NLP_tf_idf_ppmi_ricky",
      "provenance": [],
      "collapsed_sections": [],
      "toc_visible": true
    },
    "kernelspec": {
      "name": "python3",
      "display_name": "Python 3"
    }
  },
  "cells": [
    {
      "cell_type": "markdown",
      "metadata": {
        "id": "ftwhUSaa0WTd"
      },
      "source": [
        "Import library yang dibutuhkan"
      ]
    },
    {
      "cell_type": "code",
      "metadata": {
        "id": "6dfY2gVgz5Dy"
      },
      "source": [
        "import nltk\n",
        "import numpy as np\n",
        "import random\n",
        "import string\n",
        "import re\n",
        "import heapq\n",
        "import math"
      ],
      "execution_count": 115,
      "outputs": []
    },
    {
      "cell_type": "markdown",
      "metadata": {
        "id": "p18SkwBJGDil"
      },
      "source": [
        "Membaca File txt dari hasil unggah"
      ]
    },
    {
      "cell_type": "code",
      "metadata": {
        "id": "LOysjZgXGDim"
      },
      "source": [
        "ff = \"/content/NLPData/Bersepeda, Gaya atau Budaya.txt\"\n",
        "file2 = open(ff,\"r\")\n",
        "bacafile2 = file2.read()\n",
        "ff = \"/content/NLPData/Bersepeda, Kebutuhan atau Hanya Latah.txt\"\n",
        "file1 = open(ff,\"r\")\n",
        "bacafile1 = file1.read()\n",
        "bacafile = bacafile1+bacafile2\n",
        "ff = \"/content/NLPData/Gowes Sehat Demi Menjaga Kesehatan di Saat Pandemi.txt\"\n",
        "file1 = open(ff,\"r\")\n",
        "bacafile1 = file1.read()\n",
        "bacafile = bacafile+bacafile1\n",
        "ff = \"/content/NLPData/Makin Ngetren, Sepeda Lipat Brompton di Berbagai Negara Diborong Indonesia. Bule sampai Heran.txt\"\n",
        "file1 = open(ff,\"r\")\n",
        "bacafile1 = file1.read()\n",
        "bacafile = bacafile+bacafile1\n",
        "ff = \"/content/NLPData/Mengenal Segudang Manfaat Bersepeda untuk Kesehatan.txt\"\n",
        "file1 = open(ff,\"r\")\n",
        "bacafile1 = file1.read()\n",
        "bacafile = bacafile+bacafile1\n",
        "ff = \"/content/NLPData/Merawat Memori Masa Kecil dengan Bersepeda Bersama.txt\"\n",
        "file1 = open(ff,\"r\")\n",
        "bacafile1 = file1.read()\n",
        "bacafile = bacafile+bacafile1\n",
        "ff = \"/content/NLPData/Olahraga Bersepeda Menjadi Pilihan di Masa New Normal.txt\"\n",
        "file1 = open(ff,\"r\")\n",
        "bacafile1 = file1.read()\n",
        "bacafile = bacafile+bacafile1\n",
        "ff = \"/content/NLPData/Segala Hal Mengenai Sepeda Listrik yang Perlu Anda Ketahui.txt\"\n",
        "file1 = open(ff,\"r\")\n",
        "bacafile1 = file1.read()\n",
        "bacafile = bacafile+bacafile1\n",
        "ff = \"/content/NLPData/Sejarah Sepeda dan Asal Muasal Namanya.txt\"\n",
        "file1 = open(ff,\"r\")\n",
        "bacafile1 = file1.read()\n",
        "bacafile = bacafile+bacafile1\n",
        "ff = \"/content/NLPData/Sepeda Jadi Sebuah Tren.txt\"\n",
        "file1 = open(ff,\"r\")\n",
        "bacafile1 = file1.read()\n",
        "# Matriks topik A\n",
        "bacafile = bacafile+bacafile1\n",
        "\n",
        "ff = \"/content/NLPData/9 Aplikasi Penguat Sinyal Terbaik.txt\"\n",
        "file1 = open(ff,\"r\")\n",
        "bacafile1 = file1.read()\n",
        "ff = \"/content/NLPData/Aplikasi Jadul dengan Emulator.txt\"\n",
        "file2 = open(ff,\"r\")\n",
        "bacafile2 = file1.read()\n",
        "bacafile2 = bacafile1+bacafile2\n",
        "ff = \"/content/NLPData/Efektivitas Sosial Media sebagai Media Pemasaran Digital.txt\"\n",
        "file1 = open(ff,\"r\")\n",
        "bacafile1 = file1.read()\n",
        "bacafile2 = bacafile2+bacafile1\n",
        "ff = \"/content/NLPData/Google Maps Kini Punya Mode Mobil, Seperti Apa.txt\"\n",
        "file1 = open(ff,\"r\")\n",
        "bacafile1 = file1.read()\n",
        "bacafile2 = bacafile2+bacafile1\n",
        "ff = \"/content/NLPData/Ini Dampak Perkembangan Teknologi yang Dapat Dirasakan.txt\"\n",
        "file1 = open(ff,\"r\")\n",
        "bacafile1 = file1.read()\n",
        "bacafile2 = bacafile2+bacafile1\n",
        "ff = \"/content/NLPData/Penyebab dan Cara Mengatasi Komputer Sering Restart Sendiri.txt\"\n",
        "file1 = open(ff,\"r\")\n",
        "bacafile1 = file1.read()\n",
        "bacafile2 = bacafile2+bacafile1\n",
        "ff = \"/content/NLPData/Semua Yang Perlu Kamu Tahu Tentang Teknologi 5G.txt\"\n",
        "file1 = open(ff,\"r\")\n",
        "bacafile1 = file1.read()\n",
        "bacafile2 = bacafile2+bacafile1\n",
        "ff = \"/content/NLPData/Seperti Apa Teknologi Masa Depan, Tantangan dan Tren yang akan Terjadi.txt\"\n",
        "file1 = open(ff,\"r\")\n",
        "bacafile1 = file1.read()\n",
        "bacafile2 = bacafile2+bacafile1\n",
        "ff = \"/content/NLPData/Teknologi Makin Canggih, Mimpi Kini Bisa Dimodifikasi.txt\"\n",
        "file1 = open(ff,\"r\")\n",
        "bacafile1 = file1.read()\n",
        "bacafile2 = bacafile2+bacafile1\n",
        "ff = \"/content/NLPData/Video Conference Untuk Kemudahan Informasi Perusahaan Masa Kini.txt\"\n",
        "file1 = open(ff,\"r\")\n",
        "bacafile1 = file1.read()\n",
        "# Matriks topik B\n",
        "bacafile2 = bacafile2+bacafile1\n",
        "# Matriks topik A+B\n",
        "bacafile3 = bacafile+bacafile2"
      ],
      "execution_count": 185,
      "outputs": []
    },
    {
      "cell_type": "code",
      "metadata": {
        "id": "FwYFO-H-W-M4"
      },
      "source": [
        "# Pembuatan fungsi untuk membuat corpus, dan mengembalikan frekuensi kata\n",
        "def makecorpus(fileartikel):\n",
        "  nltk.download('punkt')\n",
        "  corpus = nltk.sent_tokenize(fileartikel)\n",
        "\n",
        "  for i in range(len(corpus )):\n",
        "      corpus [i] = corpus [i].lower()\n",
        "      corpus [i] = re.sub(r'\\W',' ',corpus [i]) # hapus punctuation / tanda baca\n",
        "      corpus [i] = re.sub(r'\\s+',' ',corpus [i]) # hapus spasi berlebih\n",
        "\n",
        "  wordfreq = {}\n",
        "  for sentence in corpus:\n",
        "      tokens = nltk.word_tokenize(sentence)\n",
        "      for token in tokens:\n",
        "          if token not in wordfreq.keys():\n",
        "              wordfreq[token] = 1\n",
        "          else:\n",
        "              wordfreq[token] += 1\n",
        "  # Digunakan frekuensi maksimum 150.\n",
        "  most_freq = heapq.nlargest(150, wordfreq, key=wordfreq.get) \n",
        "  return corpus, most_freq, wordfreq"
      ],
      "execution_count": 186,
      "outputs": []
    },
    {
      "cell_type": "code",
      "metadata": {
        "id": "tP8Ea2IzonrK",
        "outputId": "a8de34dc-1c02-4ad3-dce7-1ac63efce762",
        "colab": {
          "base_uri": "https://localhost:8080/",
          "height": 119
        }
      },
      "source": [
        "# Pembuatan corpus untuk topik A, topik B, dan topik A+B\n",
        "corpus1, most_freq1, wordfreq1 = makecorpus(bacafile) # Topik A\n",
        "corpus2, most_freq2, wordfreq2 = makecorpus(bacafile2) # Topik B\n",
        "corpus3, most_freq3, wordfreq3 = makecorpus(bacafile3) # Topik A + B"
      ],
      "execution_count": 187,
      "outputs": [
        {
          "output_type": "stream",
          "text": [
            "[nltk_data] Downloading package punkt to /root/nltk_data...\n",
            "[nltk_data]   Package punkt is already up-to-date!\n",
            "[nltk_data] Downloading package punkt to /root/nltk_data...\n",
            "[nltk_data]   Package punkt is already up-to-date!\n",
            "[nltk_data] Downloading package punkt to /root/nltk_data...\n",
            "[nltk_data]   Package punkt is already up-to-date!\n"
          ],
          "name": "stdout"
        }
      ]
    },
    {
      "cell_type": "markdown",
      "metadata": {
        "id": "ztXOWqDT2THb"
      },
      "source": [
        "Menghitung nilai tf. Nilai tf yang digunakan adalah yang dinormalisasi dengan panjang dokumen."
      ]
    },
    {
      "cell_type": "code",
      "metadata": {
        "id": "Eg9ZHQ-22Uqp"
      },
      "source": [
        "def wordtf(corpus,most_freq):\n",
        "  word_tf_values = {}\n",
        "  for token in most_freq:\n",
        "      sent_tf_vector = []\n",
        "      for document in corpus:\n",
        "          doc_freq = 0\n",
        "          for word in nltk.word_tokenize(document):\n",
        "              if token == word:\n",
        "                    doc_freq += 1\n",
        "          # normalisasi dengan panjang dokumen\n",
        "          word_tf = doc_freq/len(nltk.word_tokenize(document)) \n",
        "          sent_tf_vector.append(word_tf)\n",
        "      word_tf_values[token] = sent_tf_vector\n",
        "  return word_tf_values"
      ],
      "execution_count": 188,
      "outputs": []
    },
    {
      "cell_type": "code",
      "metadata": {
        "id": "mcn8qzvVtCYk"
      },
      "source": [
        "# Pembuatan dictionary untuk kata pada tf\n",
        "word_tf_values1 = wordtf(corpus1,most_freq1)\n",
        "word_tf_values2 = wordtf(corpus2,most_freq2)\n",
        "word_tf_values3 = wordtf(corpus3,most_freq3)"
      ],
      "execution_count": 189,
      "outputs": []
    },
    {
      "cell_type": "markdown",
      "metadata": {
        "id": "Zp6e-WMR1-gO"
      },
      "source": [
        "Menghitung nilai idf.\n",
        "\n",
        "Documen = 1 kalimat"
      ]
    },
    {
      "cell_type": "code",
      "metadata": {
        "id": "v3LOs9Fi2ADG"
      },
      "source": [
        "def wordidf(corpus,most_freq):\n",
        "  word_idf_values = {}\n",
        "  for token in most_freq:\n",
        "      doc_containing_word = 0\n",
        "      for document in corpus:\n",
        "          if token in nltk.word_tokenize(document):\n",
        "              doc_containing_word += 1\n",
        "      word_idf_values[token] = np.log10(len(corpus)/(doc_containing_word))\n",
        "  return word_idf_values"
      ],
      "execution_count": 190,
      "outputs": []
    },
    {
      "cell_type": "code",
      "metadata": {
        "id": "ieboQ6Fot-KB"
      },
      "source": [
        "# Pembuatan dictionary untuk kata pada idf\n",
        "word_idf_values1 = wordidf(corpus1,most_freq1)\n",
        "word_idf_values2 = wordidf(corpus2,most_freq2)\n",
        "word_idf_values3 = wordidf(corpus3,most_freq3)"
      ],
      "execution_count": 191,
      "outputs": []
    },
    {
      "cell_type": "markdown",
      "metadata": {
        "id": "eaHKIGSy240p"
      },
      "source": [
        "Hitung nilai tf-idf (Matriks tf-idf)"
      ]
    },
    {
      "cell_type": "code",
      "metadata": {
        "id": "pZGS2bwB26gx"
      },
      "source": [
        "def maketfidf(word_tf_values,word_idf_values):\n",
        "  tfidf_values = []\n",
        "  for token in word_tf_values.keys():\n",
        "      tfidf_sentences = [] # 1 dokumen adalah 1 kalimat\n",
        "      for tf_sentence in word_tf_values[token]:\n",
        "          tf_idf_score = tf_sentence * word_idf_values[token]\n",
        "          tfidf_sentences.append(tf_idf_score)\n",
        "      tfidf_values.append(tfidf_sentences)\n",
        "  return tfidf_values"
      ],
      "execution_count": 126,
      "outputs": []
    },
    {
      "cell_type": "code",
      "metadata": {
        "id": "BrWxoNefvTMQ"
      },
      "source": [
        "# Membuat matriks tfidf\n",
        "tfidf_values1 = maketfidf(word_tf_values1,word_idf_values1)\n",
        "tfidf_values2 = maketfidf(word_tf_values2,word_idf_values2)\n",
        "tfidf_values3 = maketfidf(word_tf_values3,word_idf_values3)"
      ],
      "execution_count": 192,
      "outputs": []
    },
    {
      "cell_type": "code",
      "metadata": {
        "id": "biIG7XQciYZw",
        "outputId": "33c0fa9a-375d-4acd-d68b-e773a002c8c0",
        "colab": {
          "base_uri": "https://localhost:8080/",
          "height": 119
        }
      },
      "source": [
        "# Cek kalimat pada matriks yang telah dibuat\n",
        "print(len(tfidf_values1))\n",
        "print(len(tfidf_values1[0])) # Banyak kalimat di matriks topik A\n",
        "print(len(tfidf_values2))\n",
        "print(len(tfidf_values2[0])) # Banyak kalimat di matriks topik B\n",
        "print(len(tfidf_values3))\n",
        "print(len(tfidf_values3[0])) # Banyak kalimat di matriks topik A+B"
      ],
      "execution_count": 193,
      "outputs": [
        {
          "output_type": "stream",
          "text": [
            "150\n",
            "350\n",
            "150\n",
            "427\n",
            "150\n",
            "777\n"
          ],
          "name": "stdout"
        }
      ]
    },
    {
      "cell_type": "markdown",
      "metadata": {
        "id": "M_5xQQF1pYmk"
      },
      "source": [
        "Tampilkan sebagai array dengan kolom berupa kalimat. "
      ]
    },
    {
      "cell_type": "code",
      "metadata": {
        "id": "jxNtrbOJn6rt",
        "outputId": "be19817c-d26e-4061-b0bc-f63eb6a6f01f",
        "colab": {
          "base_uri": "https://localhost:8080/",
          "height": 136
        }
      },
      "source": [
        "# Merubah bentuk matriks ke baris kalimat x kolom kata untuk menghitung \"antar dokumen\"\n",
        "tf_idf_model1 = np.asarray(tfidf_values1)\n",
        "tf_idf_model1 = np.transpose(tf_idf_model1)\n",
        "print(tf_idf_model1)"
      ],
      "execution_count": 194,
      "outputs": [
        {
          "output_type": "stream",
          "text": [
            "[[0.         0.         0.         ... 0.         0.         0.        ]\n",
            " [0.         0.01057516 0.02182176 ... 0.         0.         0.        ]\n",
            " [0.07168745 0.         0.         ... 0.         0.         0.        ]\n",
            " ...\n",
            " [0.         0.03399158 0.03507069 ... 0.         0.         0.        ]\n",
            " [0.         0.0264379  0.0272772  ... 0.         0.         0.        ]\n",
            " [0.         0.         0.0409158  ... 0.         0.         0.        ]]\n"
          ],
          "name": "stdout"
        }
      ]
    },
    {
      "cell_type": "code",
      "metadata": {
        "id": "qSk-k8EEN4i0",
        "outputId": "61c43c84-8aa3-42f4-fe4e-bc467310d1a8",
        "colab": {
          "base_uri": "https://localhost:8080/",
          "height": 136
        }
      },
      "source": [
        "tf_idf_model2 = np.asarray(tfidf_values2)\n",
        "tf_idf_model2 = np.transpose(tf_idf_model2)\n",
        "print(tf_idf_model2)"
      ],
      "execution_count": 195,
      "outputs": [
        {
          "output_type": "stream",
          "text": [
            "[[0.         0.         0.         ... 0.         0.         0.        ]\n",
            " [0.01503812 0.         0.         ... 0.         0.         0.        ]\n",
            " [0.02887319 0.         0.         ... 0.         0.         0.        ]\n",
            " ...\n",
            " [0.         0.         0.0561446  ... 0.         0.         0.        ]\n",
            " [0.03733603 0.01913382 0.         ... 0.         0.         0.        ]\n",
            " [0.         0.         0.         ... 0.         0.         0.        ]]\n"
          ],
          "name": "stdout"
        }
      ]
    },
    {
      "cell_type": "code",
      "metadata": {
        "id": "cXtiLnQ3gEBf",
        "outputId": "1e6dfda9-8e24-4629-c6e5-83624718bf73",
        "colab": {
          "base_uri": "https://localhost:8080/",
          "height": 136
        }
      },
      "source": [
        "tf_idf_model3 = np.asarray(tfidf_values3)\n",
        "tf_idf_model3 = np.transpose(tf_idf_model3)\n",
        "print(tf_idf_model3)"
      ],
      "execution_count": 196,
      "outputs": [
        {
          "output_type": "stream",
          "text": [
            "[[0.         0.         0.         ... 0.         0.         0.        ]\n",
            " [0.00908841 0.02333036 0.01537253 ... 0.         0.         0.        ]\n",
            " [0.         0.         0.         ... 0.         0.         0.        ]\n",
            " ...\n",
            " [0.         0.         0.         ... 0.         0.         0.        ]\n",
            " [0.04230811 0.01810114 0.02385393 ... 0.         0.         0.        ]\n",
            " [0.         0.         0.         ... 0.10901831 0.         0.        ]]\n"
          ],
          "name": "stdout"
        }
      ]
    },
    {
      "cell_type": "markdown",
      "metadata": {
        "id": "2F10NpQt57-A"
      },
      "source": [
        "Membuat matriks co-ocurence"
      ]
    },
    {
      "cell_type": "code",
      "metadata": {
        "id": "YtruPdnf6Bd8"
      },
      "source": [
        "def makecocurence(wordfreq,corpus):\n",
        "  # inisialisasi matriks co-occurrence\n",
        "  co_occurrence_mat = {}\n",
        "  for token_1 in wordfreq.keys():\n",
        "    co_occurrence_terms = []\n",
        "    for token_2 in wordfreq.keys():\n",
        "      co_occurrence_mat[(token_1,token_2)] = 0\n",
        "\n",
        "  # set ukuran window\n",
        "  window_size = 2 # contoh, ukuran window = 2\n",
        "\n",
        "  # inisialisasi jumlah bigram (term, context) yang muncul\n",
        "  sum_term_context = 0 # jumlah kemunculan term, context\n",
        "\n",
        "  # proses\n",
        "  for sentence in corpus:\n",
        "    tokens = nltk.word_tokenize(sentence)\n",
        "    for i in range(0,len(tokens)):\n",
        "      # konteks kata-kata sebelah kiri\n",
        "      left_index = i-1\n",
        "      while left_index >= 0 and left_index >= i-window_size:\n",
        "        token_1 = tokens[i]\n",
        "        token_2 = tokens[left_index]\n",
        "        co_occurrence_mat[(token_1,token_2)] += 1\n",
        "        sum_term_context += 1\n",
        "        left_index = left_index - 1\n",
        "      # konteks kata-kata sebelah kanan\n",
        "      right_index = i+1\n",
        "      while right_index < len(tokens) and right_index <= i+window_size:\n",
        "        token_1 = tokens[i]\n",
        "        token_2 = tokens[right_index] \n",
        "        co_occurrence_mat[(token_1,token_2)] += 1    \n",
        "        sum_term_context += 1\n",
        "        right_index = right_index + 1\n",
        "  return co_occurrence_mat,sum_term_context"
      ],
      "execution_count": 134,
      "outputs": []
    },
    {
      "cell_type": "code",
      "metadata": {
        "id": "XNvR2KoB61Mc"
      },
      "source": [
        "# Pembuatan matriks cooccurrence untuk topik A\n",
        "co_occ1, sum_term1 = makecocurence(wordfreq1,corpus1) # Topik A\n",
        "co_occ2, sum_term2 = makecocurence(wordfreq2,corpus2) # Topik B\n",
        "co_occ3, sum_term3 = makecocurence(wordfreq3,corpus3) # Topik A + B"
      ],
      "execution_count": 197,
      "outputs": []
    },
    {
      "cell_type": "code",
      "metadata": {
        "id": "y9kOQ1o2LmiV"
      },
      "source": [
        "# Membuat bigram_count untuk menghitung kemunculan kata pada bigram\n",
        "def makebigramcount(wordfreq,co_occurrence_mat):\n",
        "  bigram_count = {}\n",
        "  for token_1 in wordfreq.keys():\n",
        "    curr_bigram_count = 0\n",
        "    bigram_count[token_1] = 0\n",
        "    for token_2 in wordfreq.keys():\n",
        "      curr_bigram_count += co_occurrence_mat[(token_1,token_2)] # update jumlah kemunculan term\n",
        "    bigram_count[token_1] = curr_bigram_count # assignemnt jumlah kemunculan term sebagai bagian dari bigram\n",
        "  return bigram_count"
      ],
      "execution_count": 137,
      "outputs": []
    },
    {
      "cell_type": "code",
      "metadata": {
        "id": "9KpOgJYnE4pl",
        "outputId": "7a53e04a-5cca-4168-fec8-ab15c5cb6aba",
        "colab": {
          "base_uri": "https://localhost:8080/",
          "height": 54
        }
      },
      "source": [
        "bigram_count1 = makebigramcount(wordfreq1,co_occ1)\n",
        "bigram_count2 = makebigramcount(wordfreq2,co_occ2)\n",
        "bigram_count3 = makebigramcount(wordfreq3,co_occ3)\n",
        "print(bigram_count1)"
      ],
      "execution_count": 198,
      "outputs": [
        {
          "output_type": "stream",
          "text": [
            "{'bersepeda': 364, 'kebutuhan': 21, 'atau': 159, 'hanya': 90, 'latah': 13, 'sebagai': 68, 'bagian': 20, 'dari': 196, 'kaum': 8, 'urban': 4, 'untuk': 273, 'gaya': 45, 'hidup': 53, 'menghidupkan': 4, 'hobi': 12, 'dan': 549, 'menghobikan': 4, 'banyak': 99, 'keinginan': 12, 'yang': 622, 'seharusnya': 8, 'tidak': 135, 'perlu': 45, 'dipaksakan': 4, 'tetapi': 47, 'akhirnya': 4, 'karena': 125, 'ada': 113, 'tren': 72, 'dorongan': 4, 'eksis': 7, 'mau': 7, 'kalah': 4, 'dengan': 304, 'tetangga': 4, 'teman': 85, 'saudara': 4, 'maka': 28, 'semacam': 8, 'pemaksaan': 4, 'melakukannya': 6, 'sepeda': 640, 'kesehatan': 66, 'di': 398, 'kota': 44, 'besar': 8, 'bahkan': 33, 'sampai': 79, 'pelosok': 4, 'sudah': 42, 'menjadi': 87, 'kehidupan': 6, 'namanya': 12, 'life': 5, 'style': 4, 'saat': 125, 'ini': 222, 'sedang': 35, 'perbincangan': 8, 'adalah': 68, 'booming': 4, 'orang': 190, 'membeli': 43, 'murah': 17, 'maupun': 15, 'mahal': 56, 'laris': 8, 'manis': 7, 'dibeli': 8, 'dem': 2, 'memaksa': 4, 'sebetulnya': 11, 'utama': 6, 'mtb': 3, 'dijual': 12, 'kisaran': 4, '2': 12, 'setengan': 4, 'juta': 28, 'ke': 103, 'atas': 8, 'mengalami': 15, 'lonjakan': 3, 'permintaan': 5, 'libur': 3, 'sabtu': 4, 'minggu': 20, 'jalan': 93, 'penuh': 11, 'sepedanya': 6, 'bagus': 9, 'kalau': 18, 'dulu': 15, 'kendaraan': 18, 'terjangkau': 8, 'menuju': 12, 'pulang': 12, 'kerja': 30, 'sekarang': 29, 'alat': 16, 'memenuhi': 7, 'hasrat': 4, 'kemewahan': 4, 'wisata': 6, 'kenangan': 4, 'bersama': 50, 'almarhum': 4, 'ayah': 4, 'tua': 12, 'dokumen': 8, 'pribadi': 8, 'olah': 7, 'raga': 6, 'memang': 29, 'menyehatkan': 7, 'selain': 37, 'memerlukan': 4, 'modal': 4, 'lebih': 166, 'seperti': 52, 'bensin': 4, 'oli': 4, 'onderdil': 4, 'lain': 22, 'menggerakkan': 3, 'mesin': 2, 'cukup': 15, 'kekuatan': 15, 'kaki': 34, 'stamina': 8, 'prima': 2, 'lalu': 28, 'mengapa': 8, 'harus': 48, 'beli': 8, 'pertimbangan': 5, 'bagi': 27, 'para': 24, 'penggila': 4, 'beberapa': 65, 'alasan': 8, 'antaranya': 4, 'semakin': 38, 'nyaman': 16, 'dikendarai': 4, 'bisa': 79, 'melewati': 8, 'tanjakan': 4, 'stelan': 4, 'gigi': 4, 'pas': 8, 'sehingga': 44, 'merasa': 19, 'berat': 33, 'mengayuh': 22, 'juga': 137, 'ringan': 24, 'mudah': 13, 'dibawa': 20, 'serta': 27, 'dicopot': 4, 'diringkas': 4, 'memakan': 4, 'tempat': 50, 'kita': 82, 'bawa': 4, 'keluar': 12, 'mobil': 10, 'mengenal': 6, 'jenis': 69, 'frame': 25, 'membuat': 36, 'paling': 10, 'kerangka': 4, 'terbuat': 8, 'besi': 6, 'cepat': 24, 'berkarat': 4, 'tingkatan': 4, 'selanjutnya': 4, 'berbahan': 7, 'aluminium': 2, 'framenya': 2, 'sedikit': 11, 'bahan': 12, 'titanium': 9, 'jauh': 28, 'daripada': 19, 'namun': 30, 'tentu': 19, 'favorit': 4, 'pesepeda': 32, 'profesional': 4, 'berjenis': 12, 'karbon': 8, 'sangat': 29, 'kuat': 24, 'ditenteng': 4, 'tanpa': 18, 'cape': 4, 'menggendongnya': 2, 'rupa': 4, 'kualitas': 17, 'harga': 44, 'anda': 120, 'mencari': 8, 'menginginkan': 7, 'sekitar': 56, '3': 8, 'jutaan': 4, 'akan': 98, 'kecele': 2, 'dipastikan': 2, 'harganya': 38, '20': 13, 'ratusan': 7, 'rupiah': 8, 'merk': 7, 'ternama': 4, 'indonesia': 42, 'polygon': 8, 'united': 8, 'telah': 4, 'memproduksinya': 4, 'keperluan': 4, 'balap': 8, 'lomba': 16, 'bertaraf': 3, 'internasional': 2, 'patut': 3, 'berbangga': 4, 'memasarkannya': 4, 'luar': 31, 'negeri': 8, 'diakui': 4, 'kualitasnya': 12, 'bersaing': 4, 'eropa': 4, 'tata': 8, 'tertib': 12, 'berlalu': 6, 'lintas': 20, 'apakah': 5, 'memilih': 20, 'pengin': 8, 'merasakan': 7, 'euforia': 4, 'dalam': 76, 'gara': 8, 'pandemi': 49, 'benar': 8, 'menerapkan': 12, 'pola': 8, 'sehat': 44, 'baru': 46, 'mematuhi': 8, 'rambu': 8, 'menantang': 8, 'arus': 8, 'mengendarai': 10, 'ditengah': 4, 'tengah': 19, 'laju': 4, 'motor': 4, 'kencang': 4, 'mengenakan': 4, 'helm': 12, 'pengaman': 9, 'sekedar': 16, 'asesoris': 4, 'ingin': 28, 'menunjukkan': 24, 'bahwa': 24, 'ia': 12, 'punya': 12, 'keren': 8, 'kadang': 2, 'mengindahkan': 4, 'peraturan': 12, 'bosan': 21, 'mereka': 15, 'mengikuti': 12, 'suatu': 7, 'jika': 55, 'antuasiasme': 4, 'masyarakat': 28, 'pada': 64, 'dunia': 20, 'pernggenjotan': 4, 'pernggowesan': 4, 'surut': 2, 'halnya': 11, 'ketika': 17, 'tergila': 4, 'gila': 5, 'batu': 4, 'mulia': 4, 'tanaman': 4, 'hias': 4, 'berharga': 4, 'keuntungan': 5, 'menurut': 8, 'tinjauan': 4, 'menguntungkan': 4, 'kebiasaan': 10, 'dapat': 75, 'menurunkan': 19, 'kada': 4, 'lemak': 6, 'tubuh': 42, 'mengontrol': 4, 'badan': 29, 'meningkatkan': 22, 'metabolisme': 8, 'kalori': 28, 'dibakar': 4, 'oleh': 28, 'pergerakan': 4, 'gampang': 8, 'sakit': 12, 'sendi': 4, 'solusi': 8, 'membantu': 18, 'memulihkan': 4, 'menekan': 4, 'munculnya': 8, 'persendian': 4, 'terutama': 8, 'lutut': 4, 'tungkai': 3, 'menghilangkan': 12, 'stres': 4, 'konsentrasi': 4, 'menambah': 10, 'nafsu': 3, 'makan': 2, 'itulah': 10, 'jakarta': 7, 'pendatang': 4, 'saya': 40, 'pertama': 14, 'tahun': 32, '2005': 2, 'sebelum': 14, 'cfd': 4, 'car': 8, 'free': 8, 'day': 8, 'masih': 29, 'tinggal': 12, 'depok': 14, 'jarak': 36, 'tempuh': 7, 'awal': 15, 'lumayan': 16, 'pernah': 30, 'melintasi': 4, 'jalanan': 7, 'ui': 8, 'sawangan': 4, 'legenda': 3, 'kemudian': 17, 'kost': 4, 'pasar': 12, 'melakukan': 27, 'perjalanan': 40, 'melintas': 4, 'cilandak': 4, 'jagakarsa': 4, 'beji': 4, 'terus': 8, 'kecil': 44, 'lewat': 8, 'stasun': 4, 'pondok': 4, 'china': 4, 'meluncur': 4, 'margonda': 4, 'arah': 4, 'lama': 20, 'menyusur': 4, 'rel': 4, 'citayam': 4, 'cilodong': 4, 'berputar': 4, 'ibu': 8, 'bogor': 18, 'terletak': 4, 'cibinong': 5, 'langsung': 8, 'raya': 20, 'masuk': 8, 'menempuh': 24, 'pagi': 16, 'siang': 4, 'istirahat': 16, 'stasiun': 4, 'istana': 3, 'melihat': 10, 'trek': 4, 'off': 23, 'road': 22, 'kenapa': 5, 'salah': 12, 'satunya': 4, 'pemilihan': 4, 'ergonomi': 4, 'ban': 23, 'cocok': 19, 'bukan': 25, 'masalah': 13, 'dipertimbangkan': 4, 'bentuk': 12, 'geometris': 4, 'down': 4, 'hill': 4, 'kurang': 12, 'suspensi': 8, 'peer': 4, 'tengahnya': 4, 'kenyamanan': 8, 'berkurang': 2, 'menggunakan': 31, 'ukuran': 14, 'bila': 4, 'beraspal': 2, 'daya': 15, 'cengkeraman': 4, 'rendah': 20, 'melaju': 4, 'downhill': 6, 'gunung': 16, 'rata': 6, 'jadi': 32, 'memperhatikan': 4, 'sering': 16, 'berada': 16, 'sebaiknya': 8, 'roadbike': 4, 'digemari': 4, 'fixie': 20, 'single': 8, 'speed': 8, 'fixed': 3, 'gear': 10, 'satu': 38, 'butuh': 7, 'pindah': 4, 'rem': 10, 'senang': 8, 'bertualang': 4, 'alam': 12, 'bebas': 6, 'berkelok': 4, 'pilih': 6, 'mountain': 4, 'bike': 29, 'suspensinya': 4, 'lebar': 8, 'sejenis': 4, 'penulis': 2, 'cimanggis': 4, 'tanah': 13, 'abang': 8, 'berangkat': 4, 'jam': 14, 'setengah': 12, '6': 16, 'limabelas': 3, 'menit': 2, 'tentunya': 3, 'pelan': 15, 'latihan': 8, 'dekat': 3, 'dahulu': 2, 'setelah': 10, 'bulan': 12, 'rutin': 16, 'terpenting': 11, 'lakukan': 8, 'pemanasan': 4, 'stretching': 4, 'agar': 12, 'otot': 30, 'kaget': 4, 'menggenjot': 3, 'itu': 49, 'dilakukan': 24, 'kesibukan': 3, 'bekerja': 10, 'bersiap': 2, 'masker': 12, 'anjuran': 4, 'konsistensi': 4, 'jangan': 25, 'diforsir': 4, 'tenaga': 22, 'mengayuhpun': 3, 'tahan': 15, 'secara': 12, 'konstan': 3, 'menggenjotnya': 2, 'saja': 18, 'semoga': 4, 'pilihan': 11, 'pertamalah': 3, 'salam': 4, 'budaya': 8, 'brigjen': 2, 'pol': 3, 'krishna': 4, 'murti': 4, 'mengecam': 4, 'kelompok': 15, 'kerap': 7, 'ditemuinya': 2, 'dibandingkannya': 2, 'berpendidikan': 7, 'tinggi': 30, 'melalui': 20, 'kolase': 3, 'foto': 6, 'sekelompok': 2, 'tapi': 26, 'menguasai': 4, 'lainnya': 16, 'asyik': 4, 'barisan': 4, 'rapi': 12, 'pinggir': 4, 'tak': 31, 'menghalangi': 4, 'pengendara': 11, 'sesuai': 14, 'tebakan': 3, 'katanya': 4, 'bandingkan': 2, 'kisah': 3, 'berikut': 10, 'menaklukkan': 3, 'kilimanjaro': 4, 'afrika': 4, 'timur': 4, 'membawa': 12, 'mas': 12, 'paimo': 12, 'mengukir': 4, 'sejarah': 15, 'trans': 4, 'atacama': 4, 'cycling': 4, 'trip': 3, '2006': 2, 'menunggu': 4, 'mengkristalkan': 4, 'kesabaran': 4, 'keteguhan': 4, 'kesungguhan': 4, 'ketangguhan': 4, 'kerendahan': 4, 'hati': 20, 'tekad': 4, 'keberanian': 4, 'menumbuhkembangkan': 4, 'olahraga': 27, 'air': 12, 'semua': 23, 'persiapannya': 3, 'delapan': 3, 'buku': 2, 'membelah': 4, 'pegunungan': 4, 'andes': 4, 'bambang': 4, 'hertadi': 4, 'jejak': 4, 'petualangannya': 4, 'dinikmati': 4, 'akun': 10, 'instagram': 7, 'le_paimo': 4, 'dean': 11, 'temannya': 8, 'nala': 14, 'keliling': 12, '1bike1world': 6, 'nicholson': 3, 'skotlandia': 8, 'selalu': 8, 'kucingnya': 4, 'berkeliling': 15, 'mulanya': 2, 'sendirian': 2, 'hingga': 26, 'hari': 31, 'menemukan': 4, 'seekor': 4, 'kucing': 8, 'betina': 4, 'menangis': 4, 'kelaparan': 4, 'tepi': 3, 'mengadopsi': 3, 'si': 4, 'memberi': 4, 'nama': 21, 'terinspirasi': 4, 'karakter': 4, 'singa': 4, 'film': 4, 'the': 4, 'lion': 3, 'king': 2, 'setia': 4, 'perjalanannya': 2, 'fenomena': 8, 'berpeseda': 4, 'diungkap': 4, 'dibuat': 7, 'kategori': 8, 'bumi': 4, 'dua': 18, 'banyakan': 4, 'pegiat': 3, 'kembali': 39, 'pembaca': 4, 'hendak': 4, 'mendukung': 4, 'menjalani': 6, 'kubu': 4, 'mana': 33, 'gowes': 24, 'demi': 6, 'menjaga': 20, 'ahir': 5, 'jumpai': 4, 'daerah': 8, 'baik': 41, 'anak': 43, 'muda': 4, 'mudi': 4, 'mulai': 45, 'meramaikan': 4, 'entah': 2, 'kekinian': 4, 'dirumah': 13, 'virus': 48, 'corona': 34, 'santai': 24, 'sarana': 12, 'refreshing': 4, 'melatih': 4, 'napas': 8, 'menyenangkan': 5, 'berminat': 4, 'memulai': 4, 'ramah': 8, 'lingkungan': 11, 'menyimak': 4, 'bagaimana': 4, 'sih': 12, 'pastikan': 4, 'keadaan': 8, 'fit': 6, 'kondisi': 31, 'tidalah': 4, 'direkomendasikan': 4, 'membayakan': 4, 'diri': 20, 'sendiri': 18, 'pengguna': 17, 'apalagi': 8, 'masa': 72, 'menyarakan': 4, 'penderita': 4, 'penyakit': 31, 'kronis': 4, 'autoimun': 4, 'lansia': 4, 'tetap': 71, 'rumah': 36, 'tepat': 8, 'bersepa': 4, 'mempunya': 4, 'ketidak': 4, 'cocokan': 4, 'speda': 4, 'digunakan': 59, 'kekecilan': 4, 'kebesaran': 4, 'menyulitkan': 3, 'makadari': 2, 'pastikaan': 4, 'pilihlah': 4, 'kamu': 8, 'gunakan': 13, 'memiliki': 40, 'kebutuhanmu': 3, 'biasanya': 12, 'diperhatikan': 4, 'handlebar': 4, 'grip': 4, 'pegangan': 4, 'tangan': 16, 'sadel': 11, 'dudukan': 2, 'walapaun': 2, 'cuma': 4, 'pengen': 4, 'ya': 12, 'seperi': 4, 'kunci': 12, 'gembok': 4, 'berencana': 4, 'meninggalkan': 4, 'singgah': 4, 'sarung': 4, 'musim': 4, 'dingin': 4, 'pompa': 8, 'lacak': 4, 'mini': 4, 'peralatan': 8, 'menyetel': 3, 'pasang': 2, 'lampu': 11, 'mungkin': 20, 'diangap': 4, 'penting': 16, 'ingat': 4, 'sangatlah': 4, 'guna': 8, 'memberitau': 4, 'keberadaan': 4, 'loh': 3, 'kejadian': 8, 'kurangnya': 4, 'kejut': 4, 'penerangan': 4, 'mengakibatkan': 7, 'kecelakaan': 4, 'nah': 4, 'lah': 4, 'marak': 12, 'mengerobol': 4, 'peseda': 7, 'usahakan': 2, 'sama': 46, 'lajur': 4, 'kiri': 4, 'baris': 4, 'bergerombol': 4, 'membahayakan': 4, 'macet': 2, 'diimbangi': 4, 'pemberian': 4, 'jeda': 4, 'waktu': 28, 'beradaptasi': 2, 'lakukanlah': 4, 'rute': 12, 'terbiasa': 4, 'tambahkan': 4, 'durasi': 4, 'memberikan': 7, 'batasan': 4, 'terburu': 4, 'buru': 4, 'menentukan': 4, 'target': 8, 'antara': 20, 'deretan': 4, 'produk': 4, 'impor': 6, 'tersebut': 12, 'lipat': 24, 'brompton': 71, 'begitu': 6, 'terkenal': 6, 'berebut': 4, 'memilikinya': 6, 'walaupun': 12, 'sejumlah': 3, 'artis': 4, 'nikita': 4, 'mirzani': 4, 'denny': 4, 'cagur': 4, 'nggak': 31, 'ketinggalan': 2, 'apa': 20, 'disukai': 6, 'yuk': 2, 'simak': 3, 'penjelasan': 4, 'berbagai': 41, 'negara': 8, 'diborong': 8, 'bule': 11, 'keheranan': 6, 'padahal': 6, 'banget': 2, 'sorotan': 4, 'dibahas': 4, 'kismin666oys': 4, 'twitter': 4, '26': 3, '7': 2, 'mengunggah': 4, 'status': 8, 'seorang': 4, 'explore': 4, 'miliknya': 4, 'seharga': 8, '4': 8, '000': 17, 'rp58': 3, 'sedangkan': 2, 'chpt3': 4, 'milik': 4, 'rp87': 3, 'sang': 6, 'diminta': 4, 'mengumpulkan': 4, '15': 4, 'berapa': 6, 'pun': 23, 'belum': 14, 'lokal': 8, 'merek': 12, 'selangit': 4, 'finansial': 4, 'rawan': 4, 'selama': 16, 'ternyata': 2, 'menyukai': 4, 'dianggap': 15, 'ekslusif': 8, 'diproduksi': 8, 'jumlah': 18, 'terbatas': 8, 'berasal': 10, 'inggris': 19, 'dirakit': 4, 'manual': 12, 'handmade': 4, 'terjaga': 2, 'biaya': 4, 'kenyamanannya': 4, 'diragukan': 3, 'lagi': 28, 'desainnya': 2, 'efisien': 4, 'ergonomis': 4, 'elegan': 4, 'tarik': 3, 'tersendiri': 2, 'bahannya': 3, 'dillipat': 4, 'detik': 2, 'bepergian': 4, 'dimasukkan': 4, 'transportasi': 23, 'publik': 4, 'diimpor': 3, 'belasan': 4, 'puluhan': 8, 'kali': 16, 'dibandingkan': 12, 'sebab': 2, 'ongkos': 4, 'kirim': 4, 'asuransi': 4, 'bea': 4, 'cukai': 4, 'pajak': 3, 'menyurutkan': 4, 'pasalnya': 6, 'menganggap': 4, 'pemenuh': 3, 'gengsi': 2, 'terkesan': 4, 'heran': 14, 'simbol': 4, 'sosial': 15, 'seseorang': 14, 'terjadi': 17, 'kepopulerannya': 7, 'meredup': 10, 'sempat': 12, 'muncul': 10, 'pembelian': 6, 'meningkat': 12, 'drastis': 4, 'normal': 29, 'diperkirakan': 2, 'kepopuleran': 3, 'beralih': 10, 'dilansir': 6, 'kompas': 4, 'hal': 26, 'dialami': 8, 'populer': 12, 'doltrap': 4, 'tangguh': 4, 'ditujukan': 4, 'mahir': 2, 'kemungkinan': 5, 'seandainya': 3, 'sanggup': 4, 'kecewa': 2, 'sesuaikan': 4, 'sepedamu': 4, 'bujet': 4, 'tersedia': 2, 'lagipula': 2, 'kok': 4, 'rekomendasi': 4, 'terjamin': 2, 'siapa': 6, 'tahu': 6, 'depan': 18, 'justru': 4, 'lokalmengenal': 4, 'segudang': 8, 'manfaat': 24, 'dasarnya': 3, 'merupakan': 12, 'manusia': 6, 'menjalankannya': 2, 'berjalan': 8, 'sambil': 12, 'menikmati': 12, 'pemandangan': 10, 'orangtua': 4, 'gemar': 7, 'bermain': 4, 'rekreasi': 4, 'dapatkan': 2, '1': 0, 'mental': 4, 'sebuah': 19, 'penelitian': 16, 'aktif': 10, 'fisik': 8, 'kadar': 4, 'kesejahteraan': 4, '32': 4, 'persen': 4, 'berupa': 8, 'beragam': 4, 'termasuk': 12, 'dalamnya': 4, 'berolahraga': 28, 'suasana': 15, 'adanya': 20, 'pelepasan': 4, 'hormon': 4, 'adrenalin': 4, 'endorfin': 2, 'rasa': 12, 'kepercayaan': 4, 'ikut': 4, 'pencapaian': 4, 'misalnya': 4, 'berhasil': 4, '10': 4, 'kilometer': 4, 'ruangan': 4, 'membangun': 4, 'berbeda': 12, 'berkelompok': 2, 'keduanya': 10, 'meluangkan': 4, 'tenang': 4, 'rileks': 2, 'lingkaran': 4, 'luas': 6, 'membangkitkan': 4, 'persamaan': 4, 'sederhana': 4, 'pahami': 4, 'melebihi': 4, 'kata': 12, 'membakar': 16, 'konsumsi': 8, 'setidaknya': 4, '400': 4, '1000': 4, 'per': 4, 'tergantung': 12, 'intensitas': 4, 'membentuk': 6, 'memperkuat': 8, 'khususnya': 24, 'glutes': 4, 'paha': 8, 'belakang': 6, 'betis': 4, 'mendapatkan': 12, 'persentase': 8, 'diingat': 3, 'meskipun': 8, 'bergerak': 2, 'paru': 5, 'terengah': 4, 'engah': 4, 'kesulitan': 8, 'bernapas': 2, 'terasa': 11, 'melelahkan': 4, 'menandakan': 4, 'terlatih': 4, 'dah': 4, 'terbuka': 4, 'terpapar': 16, 'udara': 8, 'segar': 4, 'terkontaminasi': 4, 'polusi': 12, 'studi': 5, 'healthy': 4, 'campaign': 4, 'kings': 4, 'college': 4, 'london': 8, 'camden': 4, 'council': 4, 'mengamati': 4, 'detektor': 4, 'dipasang': 4, 'pengemudi': 8, 'bus': 6, 'pejalan': 8, 'pusat': 20, 'hasilnya': 4, 'tingkat': 4, 'lima': 12, 'tiga': 11, '5': 4, 'tidur': 12, 'nyenyak': 6, 'terakhir': 7, 'malam': 4, 'bugar': 4, 'disertai': 8, 'optimal': 4, 'melainkan': 4, 'emosional': 4, 'efek': 8, 'menyegarkan': 4, 'permasalahan': 4, 'akibat': 4, 'emosi': 4, 'stabil': 8, 'tekanan': 4, 'cemas': 8, 'teratasi': 2, 'mencegah': 12, 'terjadinya': 8, 'penambahan': 4, 'seiring': 8, 'bertambahnya': 6, 'usia': 4, 'penyebab': 4, 'gangguan': 3, 'menangkal': 2, 'diabetes': 9, 'kegiatan': 6, 'university': 4, 'of': 4, 'southern': 4, 'denmark': 4, 'mengatakan': 4, 'individu': 4, 'risiko': 8, 'terhadap': 6, 'rajin': 16, 'pula': 24, 'setiap': 29, 'pergi': 20, 'dilaporkan': 4, 'british': 4, 'medical': 4, 'journal': 4, 'biasa': 39, 'tim': 8, 'penyelidik': 4, 'universitas': 3, 'glasgow': 2, 'melacak': 3, '263': 4, '450': 4, 'wales': 2, 'hasil': 2, 'menghindari': 8, 'kanker': 6, 'kardiovaskular': 6, 'melemahkan': 4, 'jangka': 3, 'panjang': 2, 'pengusaha': 4, 'terhindar': 4, 'kehilangan': 4, 'memudahkan': 4, 'karyawan': 4, 'merawat': 20, 'memori': 18, 'melambung': 4, 'pabrikan': 6, 'berlomba': 6, 'memproduksi': 4, 'macam': 7, 'desain': 16, 'apik': 4, 'menarik': 8, 'dipungkiri': 7, 'kini': 4, 'peduli': 9, 'berapapun': 4, 'primadona': 8, 'keunikannya': 2, 'unik': 3, 'menawarkan': 4, 'ringkasnya': 4, 'kemanapun': 4, 'meski': 6, 'umum': 10, 'setinggi': 3, 'langit': 2, 'penggunanya': 4, 'terlihat': 6, 'imunitas': 8, 'dimana': 14, 'hadiah': 7, 'ulang': 7, 'tercinta': 4, 'diidamkan': 2, 'senyum': 2, 'bahagia': 6, 'merekah': 4, 'tatkala': 4, 'segera': 7, 'naik': 12, 'untungnya': 2, 'putus': 4, 'sejak': 16, 'to': 4, 'work': 4, 'mengguncang': 4, 'bingung': 4, 'mencoba': 6, 'menghubungi': 3, 'gayung': 2, 'bersambut': 3, 'memperbaiki': 8, 'mengganti': 4, 'spare': 4, 'part': 4, 'lamanya': 2, 'keceriaan': 9, 'saling': 8, 'menghampiri': 3, 'masing': 45, 'berteriak': 4, 'memanggil': 4, 'baskara': 4, 'ayo': 8, 'sepedaan': 6, 'assalamu': 2, 'alaikum': 2, 'soni': 2, 'bareng': 2, 'buyuuuung': 2, 'bangun': 4, 'aih': 2, 'kurasa': 4, 'duanya': 2, 'mulailah': 2, 'prinsipnya': 2, 'boleh': 4, 'tertinggal': 4, 'mengerti': 3, 'memahami': 4, 'aman': 11, 'obrolan': 3, 'ditempuh': 2, 'merknya': 4, 'gembira': 2, 'lewati': 4, 'desa': 8, 'indahnya': 4, 'karunia': 3, 'tuhan': 2, 'berfoto': 3, 'ria': 4, 'senantiasa': 4, 'keselamatan': 3, 'jiwa': 2, 'berbagi': 6, 'tertawa': 4, 'sembari': 4, 'mengenang': 4, 'nan': 8, 'indah': 7, 'mengabadikan': 2, 'momen': 4, 'dilalui': 2, 'membagikan': 2, 'kebahagian': 3, 'media': 12, 'niat': 4, 'kebahagaian': 4, 'menularkan': 4, 'energi': 4, 'positif': 4, 'patuh': 4, 'protokol': 20, 'keshatan': 4, 'era': 4, 'sepenggal': 2, 'cerita': 3, 'new': 22, 'covid': 10, '19': 15, 'hangat': 4, 'elektronik': 8, 'ancaman': 4, 'msyarakat': 3, 'masuknya': 4, 'inonesia': 4, 'maret': 4, '2020': 4, 'juli': 4, 'menelan': 4, 'korban': 12, 'turun': 4, 'meningkatnya': 4, 'sembuh': 4, 'tandai': 4, 'berlakukannya': 8, 'transisi': 8, 'sebut': 4, 'bebarapa': 2, 'fasilitas': 7, 'sekolah': 8, 'perbelanjaan': 8, 'perkantoran': 8, 'aktivitasnya': 8, 'pemerintah': 8, 'memakai': 4, 'mencuci': 4, 'sempurna': 2, 'pembukaan': 4, 'tadi': 4, 'sadari': 4, 'menigkatkan': 4, 'terjangkit': 8, 'malah': 8, 'angka': 4, 'terjangkitnya': 4, 'melupakan': 4, 'mengetahui': 4, 'asal': 17, 'lihat': 12, 'berita': 4, 'bermunculannya': 4, 'klaster': 4, 'otomatis': 4, 'bertambah': 6, 'sebelumnya': 2, 'maksud': 4, 'ketua': 4, 'pakar': 4, 'gugus': 4, 'tugas': 4, 'percepatan': 4, 'penanganan': 4, 'wiku': 4, 'adisasmita': 4, 'perubahan': 4, 'perilaku': 4, 'menjalankan': 11, 'aktivitas': 8, 'tambahnya': 4, 'penularan': 4, 'menyesuaikan': 4, 'waspada': 4, 'itudi': 4, 'ataupun': 15, 'manapun': 4, 'caranya': 4, 'minimal': 4, 'sekali': 4, 'kerumunan': 8, 'gemari': 4, 'joging': 4, 'tampak': 4, 'akhir': 15, 'pekan': 8, 'sore': 7, 'banyaknya': 12, 'dewasa': 6, 'mengindari': 4, 'sebagian': 8, 'mempunyai': 4, 'menggunakannya': 4, 'memakainya': 4, 'keluarga': 12, 'lelah': 4, 'perhatikan': 4, 'kemampuan': 4, 'weekend': 4, 'sekitaran': 4, 'sultan': 4, 'agung': 4, 'rumput': 4, 'selatan': 4, 'pejualan': 4, '1980': 4, 'menjual': 8, 'rp': 4, '200': 4, 'rp2': 4, 'toko': 4, 'pedagang': 4, 'dadakan': 4, 'datang': 4, 'unutk': 4, 'ruas': 4, 'kemacetan': 6, 'mari': 2, 'melestarikan': 4, 'lupa': 4, 'menimbulkan': 8, 'dinginkan': 4, 'memasuki': 2, 'kenormalan': 4, 'penggunaan': 4, 'kian': 7, 'sehari': 7, 'listrik': 83, 'dipilih': 6, 'e': 23, 'dikayuh': 6, 'bimbang': 4, 'perbedaan': 14, 'sekilas': 4, 'mirip': 6, 'terdapat': 8, 'tampilan': 2, 'mekanik': 4, 'mencoiok': 4, 'dinamo': 4, 'baterai': 17, 'sumber': 8, 'spesifikasi': 8, 'segi': 7, 'skuter': 4, 'vespa': 2, 'pemeliharaan': 2, 'dibersihkan': 4, 'kelistrikan': 12, 'dilindungi': 4, 'jka': 2, 'kerusakan': 12, 'pedal': 18, 'perbaikan': 4, 'umumnya': 4, 'khawatir': 4, 'dilengkapi': 12, 'garansi': 4, 'jarang': 6, 'cara': 7, 'proses': 4, 'memungkinkan': 4, 'terisi': 2, 'menghemat': 4, 'kecepatan': 6, 'batas': 4, 'maksimal': 4, '40': 4, 'km': 3, 'balapan': 4, 'elektrik': 8, 'kayuh': 3, 'pengendaranya': 2, 'berdasarkan': 4, 'kategorinya': 4, 'emtb': 10, 'didesain': 4, 'tantangan': 2, 'mampu': 8, 'menyusuri': 4, 'bukit': 4, 'posisi': 2, 'mengendarainya': 7, 'terkontrol': 2, 'banting': 4, 'medan': 7, 'hybrid': 11, 'disebut': 8, 'trekking': 4, 'peruntukannya': 4, 'terlalu': 4, 'ekstrem': 4, 'keranjang': 4, 'penyimpanan': 3, 'ekstra': 2, 'cruiser': 3, 'comfort': 4, 'mengutamakan': 4, 'berkendara': 2, 'pengganjal': 4, 'tebal': 4, 'empuk': 4, 'bumper': 3, 'karet': 2, 'taman': 4, 'pantai': 2, 'baca': 2, 'tips': 4, 'pemula': 4, 'ketahui': 4, 'jantung': 4, 'gejalanya': 4, 'rentang': 4, 'relatif': 4, 'berkisar': 4, 'dimilikijakarta': 4, 'makin': 4, 'dia': 9, 'supaya': 6, 'wira': 4, 'wiri': 4, 'jaga': 7, 'menyebutnya': 11, 'bicycle': 12, 'sebenarnya': 4, 'dihimpun': 2, 'detikinet': 3, 'mula': 4, 'velocipede': 20, 'diperkenalkan': 4, 'kolonial': 4, 'belanda': 10, 'tentang': 4, 'abad': 8, 'pramoedya': 2, 'ananta': 3, 'toer': 4, 'novel': 8, 'bangsa': 8, 'menceritakan': 4, 'penemuan': 4, 'hindia': 3, 'dinamai': 4, 'kereta': 8, 'angin': 9, 'tuan': 7, 'bikinan': 2, 'jerman': 6, 'sejati': 2, 'urusan': 4, 'penumpangnya': 4, 'jatuh': 2, 'duduk': 2, 'berayun': 2, 'penumpang': 3, 'melesit': 4, 'panah': 2, 'tulis': 2, 'pram': 7, 'bab': 4, '14': 4, 'halaman': 3, '433': 2, 'penemu': 10, 'baron': 4, 'karl': 6, 'von': 22, 'drais': 21, 'website': 4, 'museumjocas': 4, 'nl': 4, '1817': 4, 'menciptakan': 4, 'roda': 27, 'kayu': 4, 'setir': 4, 'ditulis': 4, 'novelnya': 2, 'melajunya': 3, 'diayun': 4, 'mendorong': 4, 'menamai': 4, 'draisine': 4, 'dikenal': 4, 'bapak': 3, 'dialah': 3, 'modern': 6, 'lahir': 4, 'kenal': 2, 'inovasi': 21, 'menyempurnakan': 4, 'dibikin': 4, 'lepas': 4, 'muasal': 4, 'temuan': 3, 'mendapat': 4, 'penyempurnaan': 4, '1860': 4, 'an': 4, 'prancis': 4, 'pierre': 8, 'lallement': 4, 'michaux': 6, 'ernest': 3, 'history': 4, 'menambahkan': 4, 'situ': 6, 'lahirlah': 8, 'artinya': 4, 'varian': 4, 'yaitu': 4, 'monocycle': 4, 'tricycle': 4, 'eugene': 2, 'meyer': 3, 'james': 4, 'starley': 6, 'membesarkan': 4, 'depannya': 4, 'penny': 10, 'farthings': 10, '1870': 4, '1880': 4, 'melahirkan': 4, 'kelab': 4, '1885': 4, 'john': 4, 'kemp': 3, 'menggabung': 4, 'bannya': 4, 'model': 8, 'rantai': 5, 'belakangnya': 4, 'canggih': 4, 'kuno': 4, 'komunitas': 14, 'penggemar': 8, 'antik': 4, 'ontel': 4, 'berubah': 4, 'semenjak': 4, 'hadir': 4, 'survive': 2, 'betul': 2, 'pasti': 8, 'obatnya': 2, 'menemukannya': 2, 'is': 3, 'choice': 4, 'terpuruk': 4, 'sulit': 4, 'bangkit': 4, 'kreasi': 2, 'daun': 8, 'modelnya': 4, 'ringkas': 2, 'karantina': 3, 'mandiri': 4, 'kejenuhan': 2, 'ruang': 4, 'gerak': 7, 'kemana': 4, 'aja': 4, 'tiba': 8, 'isolasi': 6, 'diam': 2, 'krharusan': 4, 'jenuh': 4, 'terkekang': 2, 'tercetuslah': 2, 'sekaligus': 4, 'megurangi': 3, 'kepenatan': 2, 'hukum': 4, 'ekonomi': 3, 'berlaku': 2, 'kelangkaan': 4, 'kenaikan': 4, 'menyebar': 4, 'membersihkan': 4, 'cuci': 4, 'makanan': 3, 'bergizi': 2, 'faktanya': 2, 'jadwal': 4, 'kacau': 3, 'balau': 2, 'wfh': 3, 'profesi': 4, 'bikin': 4, 'kpi': 4, 'menurun': 4, 'hemat': 4, 'buruk': 2, 'seolah': 3, 'obat': 4, 'sementara': 4, 'kungkungan': 2, 'kece': 4, 'melengkapi': 4, 'perlengkapan': 7, 'baju': 4, 'topi': 4, 'tas': 4, 'botol': 4, 'minum': 4, 'haus': 4, 'dilihat': 4, 'peluang': 4, 'distributor': 4, 'digandrungi': 4, 'kalangan': 2, 'menjamur': 4, 'mendekorasi': 4, 'rumahnya': 2, 'betah': 3, 'furniture': 2, 'interior': 4, 'beserta': 4, 'sifatnya': 4, 'menyuguhkan': 4, 'hiburan': 2, 'hilang': 4, 'mengambil': 4, 'hikmah': 4, 'berjuang': 4, 'mencintai': 4}\n"
          ],
          "name": "stdout"
        }
      ]
    },
    {
      "cell_type": "markdown",
      "metadata": {
        "id": "z66MVV5mD1Ww"
      },
      "source": [
        "Buat matriks probability(term, context)"
      ]
    },
    {
      "cell_type": "code",
      "metadata": {
        "id": "s1HXqJX_Ekbu"
      },
      "source": [
        "# definisikan dan isi matriks probability (term, context)\n",
        "def maketermprob(wordfreq,sum_term_context,co_occurrence_mat):\n",
        "  term_context_prob = {}\n",
        "  for token_1 in wordfreq.keys():\n",
        "    for token_2 in wordfreq.keys():    \n",
        "      term_context_prob[(token_1,token_2)] = co_occurrence_mat[(token_1,token_2)]/sum_term_context\n",
        "  return term_context_prob"
      ],
      "execution_count": 139,
      "outputs": []
    },
    {
      "cell_type": "code",
      "metadata": {
        "id": "ARnf25Q6_8iG"
      },
      "source": [
        "term_prob1 = maketermprob(wordfreq1,sum_term1,co_occ1)\n",
        "term_prob2 = maketermprob(wordfreq2,sum_term2,co_occ2)\n",
        "term_prob3 = maketermprob(wordfreq3,sum_term3,co_occ3)"
      ],
      "execution_count": 201,
      "outputs": []
    },
    {
      "cell_type": "markdown",
      "metadata": {
        "id": "503guhjXj4AW"
      },
      "source": [
        "Buat matriks PPMI (term, context)"
      ]
    },
    {
      "cell_type": "code",
      "metadata": {
        "id": "-VuVsIGtj8wr"
      },
      "source": [
        "def makeppmi(wordfreq,bigram_count,sum_term_context,term_context_prob):\n",
        "  # definisikan dan isi matriks probability (term, context)\n",
        "  ppmi_mat = {}\n",
        "  for token_1 in wordfreq.keys():\n",
        "    for token_2 in wordfreq.keys(): \n",
        "      token_1_prob = bigram_count[token_1]/sum_term_context\n",
        "      token_2_prob = bigram_count[token_2]/sum_term_context\n",
        "      if term_context_prob[(token_1,token_2)] > 0:\n",
        "        temp_hasil = round(math.log2(term_context_prob[(token_1,token_2)]/(token_1_prob*token_2_prob)), 4)\n",
        "        # PPMI\n",
        "        if temp_hasil > 0:\n",
        "          ppmi_mat[(token_1,token_2)] =  temp_hasil\n",
        "        else:\n",
        "          ppmi_mat[(token_1,token_2)] =  0\n",
        "      else: # kalau nilai probability = 0, tidak bisa dihitung log 2 -nya\n",
        "        ppmi_mat[(token_1,token_2)] = None\n",
        "  return ppmi_mat"
      ],
      "execution_count": 141,
      "outputs": []
    },
    {
      "cell_type": "code",
      "metadata": {
        "id": "VDpOW-rrDXhO"
      },
      "source": [
        "# bigram_count dibuat variabel\n",
        "ppmi_mat1 = makeppmi(wordfreq1,bigram_count1,sum_term1,term_prob1)\n",
        "ppmi_mat2 = makeppmi(wordfreq2,bigram_count2,sum_term2,term_prob2)\n",
        "ppmi_mat3 = makeppmi(wordfreq3,bigram_count3,sum_term3,term_prob3)"
      ],
      "execution_count": 202,
      "outputs": []
    },
    {
      "cell_type": "code",
      "metadata": {
        "id": "TCUV2jbUQS0B",
        "outputId": "4b33e236-eae6-4498-a1c1-6d9bd6de84d5",
        "colab": {
          "base_uri": "https://localhost:8080/",
          "height": 68
        }
      },
      "source": [
        "print(len(ppmi_mat1))\n",
        "print(len(ppmi_mat2))\n",
        "print(len(ppmi_mat3))"
      ],
      "execution_count": 207,
      "outputs": [
        {
          "output_type": "stream",
          "text": [
            "2692881\n",
            "2334784\n",
            "7043716\n"
          ],
          "name": "stdout"
        }
      ]
    },
    {
      "cell_type": "markdown",
      "metadata": {
        "id": "xmDG3nFVfsKh"
      },
      "source": [
        "# Element Matriks TF-IDF yang tidak sama dengan 0"
      ]
    },
    {
      "cell_type": "code",
      "metadata": {
        "id": "PNCunZNNKdgN"
      },
      "source": [
        "# Pembuatan fungsi untuk menghitung nilai elemen yang tidak sama dengan 0\n",
        "def hitungelementfid(tfidf_values):\n",
        "  count = 0\n",
        "  penyebut = 0\n",
        "  for i in range(len(tfidf_values)):\n",
        "    for data in tfidf_values[i]:\n",
        "      if data != 0:\n",
        "        count = count + 1\n",
        "      else:\n",
        "        count = count\n",
        "      penyebut = penyebut + 1\n",
        "  hasil = (count/penyebut) * 100\n",
        "  return hasil"
      ],
      "execution_count": 208,
      "outputs": []
    },
    {
      "cell_type": "code",
      "metadata": {
        "id": "XX3A3RbJwlDL"
      },
      "source": [
        "hasil1 = hitungelementfid(tfidf_values1)\n",
        "hasil2 = hitungelementfid(tfidf_values2)\n",
        "hasil3 = hitungelementfid(tfidf_values3)"
      ],
      "execution_count": 209,
      "outputs": []
    },
    {
      "cell_type": "code",
      "metadata": {
        "id": "XgYneYozw20z",
        "outputId": "1a6ae40a-78d6-46dc-8471-c7df6ad747ad",
        "colab": {
          "base_uri": "https://localhost:8080/",
          "height": 68
        }
      },
      "source": [
        "print(\"Elemen bernilai tidak sama dengan 0 pada topik A adalah \",hasil1,\"%\")\n",
        "print(\"Elemen bernilai tidak sama dengan 0 pada topik B adalah \",hasil2,\"%\")\n",
        "print(\"Elemen bernilai tidak sama dengan 0 pada topik A+B adalah \",hasil3,\"%\")"
      ],
      "execution_count": 210,
      "outputs": [
        {
          "output_type": "stream",
          "text": [
            "Elemen bernilai tidak sama dengan 0 pada topik A adalah  4.611428571428571 %\n",
            "Elemen bernilai tidak sama dengan 0 pada topik B adalah  5.1303669008587045 %\n",
            "Elemen bernilai tidak sama dengan 0 pada topik A+B adalah  4.524238524238524 %\n"
          ],
          "name": "stdout"
        }
      ]
    },
    {
      "cell_type": "markdown",
      "metadata": {
        "id": "n5uy2tlO3Zy4"
      },
      "source": [
        "# Elemen matriks PPMI yang tidak sama dengan 0"
      ]
    },
    {
      "cell_type": "code",
      "metadata": {
        "id": "cKabywzAO5km"
      },
      "source": [
        "# Pembuatan fungsi untuk menghitung nilai elemen yang tidak sama dengan 0\n",
        "def hitungelementppmi(wordfreq,ppmi_mat):\n",
        "  count = 0\n",
        "  penyebut = 0\n",
        "  for token_1 in wordfreq.keys():\n",
        "    for token_2 in wordfreq.keys():\n",
        "      if ppmi_mat[(token_1,token_2)] != 0:\n",
        "        count = count + 1 \n",
        "      else:\n",
        "        count = count \n",
        "      penyebut = penyebut + 1\n",
        "  hasil = (count/penyebut) * 100\n",
        "  return hasil"
      ],
      "execution_count": 211,
      "outputs": []
    },
    {
      "cell_type": "code",
      "metadata": {
        "id": "kaI_vAg13gn-"
      },
      "source": [
        "hasilpm1 = hitungelementppmi(wordfreq1,ppmi_mat1)\n",
        "hasilpm2 = hitungelementppmi(wordfreq2,ppmi_mat2)\n",
        "hasilpm3 = hitungelementppmi(wordfreq3,ppmi_mat3)"
      ],
      "execution_count": 212,
      "outputs": []
    },
    {
      "cell_type": "code",
      "metadata": {
        "id": "JUeXbAKHBoJc",
        "outputId": "f55a6a7f-3524-4591-e8b4-76379935ead0",
        "colab": {
          "base_uri": "https://localhost:8080/",
          "height": 68
        }
      },
      "source": [
        "print(\"Elemen bernilai tidak sama dengan 0 pada topik A adalah \",hasilpm1,\"%\")\n",
        "print(\"Elemen bernilai tidak sama dengan 0 pada topik B adalah \",hasilpm2,\"%\")\n",
        "print(\"Elemen bernilai tidak sama dengan 0 pada topik A+B adalah \",hasilpm3,\"%\")"
      ],
      "execution_count": 213,
      "outputs": [
        {
          "output_type": "stream",
          "text": [
            "Elemen bernilai tidak sama dengan 0 pada topik A adalah  99.98781973655724 %\n",
            "Elemen bernilai tidak sama dengan 0 pada topik B adalah  99.98051211589595 %\n",
            "Elemen bernilai tidak sama dengan 0 pada topik A+B adalah  99.98742141222048 %\n"
          ],
          "name": "stdout"
        }
      ]
    },
    {
      "cell_type": "markdown",
      "metadata": {
        "id": "kmZhVOt3DCle"
      },
      "source": [
        "# ANTAR DOKUMEN"
      ]
    },
    {
      "cell_type": "markdown",
      "metadata": {
        "id": "BJxFNfx0hfBG"
      },
      "source": [
        "## Berdasarkan matriks TF_IDF, hitung nilai cosine similarity antar dokumen dengan topik yang sama"
      ]
    },
    {
      "cell_type": "code",
      "metadata": {
        "id": "Z1b7vUO4iqk3"
      },
      "source": [
        "# tf_idf_model adalah tranpose, yang berarti kalimat x kata\n",
        "def cosinesimilarity(tf_idf_model,kalimatx,kalimaty):\n",
        "  cos_sim = np.dot(tf_idf_model[kalimatx],tf_idf_model[kalimaty])/np.linalg.norm(tf_idf_model[kalimatx])*np.linalg.norm(tf_idf_model[kalimaty])\n",
        "  return cos_sim"
      ],
      "execution_count": 214,
      "outputs": []
    },
    {
      "cell_type": "markdown",
      "metadata": {
        "id": "lmBl_oDDcTUs"
      },
      "source": [
        "### Cosine similarity antara kalimat 1 dan 2"
      ]
    },
    {
      "cell_type": "code",
      "metadata": {
        "id": "hOH30ac5i96j",
        "outputId": "f1beae83-ae13-4788-a19b-359f52300d96",
        "colab": {
          "base_uri": "https://localhost:8080/",
          "height": 34
        }
      },
      "source": [
        "cos_sim12 = cosinesimilarity(tf_idf_model1,0,1) # Karena bentuknya array, indeks dimulai dari 0\n",
        "print(cos_sim12)"
      ],
      "execution_count": 215,
      "outputs": [
        {
          "output_type": "stream",
          "text": [
            "0.004500819595722934\n"
          ],
          "name": "stdout"
        }
      ]
    },
    {
      "cell_type": "markdown",
      "metadata": {
        "id": "D-oT_WD-hozI"
      },
      "source": [
        "## Berdasarkan matriks TF_IDF, hitung nilai cosine similarity antar dokumen dengan topik yang berbeda"
      ]
    },
    {
      "cell_type": "code",
      "metadata": {
        "id": "wiYdU0MaJkbC",
        "outputId": "1f703a67-dcc9-45c1-add8-72687bfe0964",
        "colab": {
          "base_uri": "https://localhost:8080/",
          "height": 51
        }
      },
      "source": [
        "print(len(tf_idf_model1)) # Panjang untuk topik A\n",
        "print(len(tf_idf_model3)) # Panjang untuk topik A+B"
      ],
      "execution_count": 216,
      "outputs": [
        {
          "output_type": "stream",
          "text": [
            "350\n",
            "777\n"
          ],
          "name": "stdout"
        }
      ]
    },
    {
      "cell_type": "markdown",
      "metadata": {
        "id": "Yr--y8mRhIsv"
      },
      "source": [
        "### Cosine similarity antara kalimat 23 dan 451\n",
        "\n",
        "Karena dokumen topik A pada indeks ke 0-350 maka untuk dokumen topik B pada indeks 351-777.\n",
        "Sehingga untuk topik berbeda menggunakan indeks dengan range 0-350 dengan 351-777 dan menggunakan matriks TF-IDF untuk topik A+B"
      ]
    },
    {
      "cell_type": "code",
      "metadata": {
        "id": "-g0vLvcahIsy",
        "outputId": "1d2e28e5-38db-4c68-c778-2ba5cecbe331",
        "colab": {
          "base_uri": "https://localhost:8080/",
          "height": 34
        }
      },
      "source": [
        "cos_sim2 = cosinesimilarity(tf_idf_model3,22,450)\n",
        "print(cos_sim2)"
      ],
      "execution_count": 217,
      "outputs": [
        {
          "output_type": "stream",
          "text": [
            "0.001300647859449233\n"
          ],
          "name": "stdout"
        }
      ]
    },
    {
      "cell_type": "markdown",
      "metadata": {
        "id": "NsSuTRMrDUn3"
      },
      "source": [
        "# ANTAR KATA"
      ]
    },
    {
      "cell_type": "markdown",
      "metadata": {
        "id": "yyUWKAM7AT5b"
      },
      "source": [
        "## Berdasarkan matriks TF_IDF, hitung nilai cosine similarity antar kata dengan topik yang sama"
      ]
    },
    {
      "cell_type": "code",
      "metadata": {
        "id": "VHBv2vh__vLV"
      },
      "source": [
        "# mengembalikan ke bentuk baris kata x kolom kalimat\n",
        "tf_idf_model1 = np.transpose(tf_idf_model1)\n",
        "tf_idf_model3 = np.transpose(tf_idf_model3)"
      ],
      "execution_count": 218,
      "outputs": []
    },
    {
      "cell_type": "markdown",
      "metadata": {
        "id": "KFMjNfEoB6pN"
      },
      "source": [
        "### Cosine similarity antara kata-4(bersepeda) dan kata-10(orang)\n",
        "Menggunakan matriks TF-IDF untuk topik A"
      ]
    },
    {
      "cell_type": "code",
      "metadata": {
        "id": "n3I2Cz6h57k1",
        "outputId": "d93d04c8-129a-413b-e6ce-b279d7875f52",
        "colab": {
          "base_uri": "https://localhost:8080/",
          "height": 51
        }
      },
      "source": [
        "# Mencari indeks untuk kata yang ada di topik tersebut\n",
        "idx = next((i for i,d in enumerate(word_idf_values1) if \"bersepeda\" in d), None)\n",
        "print(idx)\n",
        "idx = next((i for i,d in enumerate(word_idf_values1) if \"orang\" in d), None)\n",
        "print(idx)"
      ],
      "execution_count": 219,
      "outputs": [
        {
          "output_type": "stream",
          "text": [
            "3\n",
            "9\n"
          ],
          "name": "stdout"
        }
      ]
    },
    {
      "cell_type": "code",
      "metadata": {
        "id": "n1V1zekRB6pO",
        "outputId": "e1c9ea1d-fa53-4764-e929-7e3d9ffcb62b",
        "colab": {
          "base_uri": "https://localhost:8080/",
          "height": 34
        }
      },
      "source": [
        "cos_sim410 = cosinesimilarity(tf_idf_model1,3,9) # Karena bentuknya array, indeks dimulai dari 0\n",
        "print(cos_sim410)"
      ],
      "execution_count": 221,
      "outputs": [
        {
          "output_type": "stream",
          "text": [
            "0.03191123537191813\n"
          ],
          "name": "stdout"
        }
      ]
    },
    {
      "cell_type": "markdown",
      "metadata": {
        "id": "vy9g1NOVB6pW"
      },
      "source": [
        "## Berdasarkan matriks TF_IDF, hitung nilai cosine similarity antar kata dengan topik yang berbeda"
      ]
    },
    {
      "cell_type": "markdown",
      "metadata": {
        "id": "Ke42hlF_B6pW"
      },
      "source": [
        "### Cosine similarity antara kata-11(bersepeda) dan kata-114(wifi)\n",
        "Menggunakan matriks TF-IDF untuk topik A+B karena mencari topik berbeda"
      ]
    },
    {
      "cell_type": "code",
      "metadata": {
        "id": "eYMqka4S9_I9",
        "outputId": "bd1aa70b-6f0a-4854-8a4e-ab1c9a93c7bb",
        "colab": {
          "base_uri": "https://localhost:8080/",
          "height": 54
        }
      },
      "source": [
        "# Cek kata yang tersedia\n",
        "print(word_idf_values3)"
      ],
      "execution_count": 222,
      "outputs": [
        {
          "output_type": "stream",
          "text": [
            "{'yang': 0.4089783902986093, 'dan': 0.5249330339100146, 'dengan': 0.6917639318464917, 'sepeda': 0.7764776664940776, 'ini': 0.7000893206306228, 'untuk': 0.7201593034059569, 'di': 0.7537004516445075, 'anda': 0.8860996450182717, 'dari': 0.9081497857613459, 'lebih': 0.9459383466507456, 'bersepeda': 0.9766071664171976, 'atau': 0.8860996450182717, 'akan': 0.9509017661822957, 'teknologi': 1.0270981586804584, 'bisa': 0.9819359999222645, 'juga': 0.9927939275104728, 'tidak': 1.0330885223696458, 'dalam': 1.0330885223696458, 'pada': 1.0980293293026604, 'orang': 1.1828508427029778, 'banyak': 1.1422329917947138, 'ada': 1.158027258977946, 'dapat': 1.174417675166115, 'kita': 1.2569525632213276, 'media': 1.2372085050255706, 'ke': 1.2671717284030137, 'karena': 1.2183231608651968, 'menjadi': 1.2183231608651968, 'saat': 1.2091797814253271, 'sosial': 1.2276631871193402, 'adalah': 1.2372085050255706, 'video': 1.299356411774415, 'seperti': 1.288361027472952, 'itu': 1.288361027472952, 'aplikasi': 1.3106374221841042, 'hanya': 1.299356411774415, 'hal': 1.334118518033627, 'masa': 1.3463529744506386, 'jika': 1.334118518033627, 'harus': 1.3589421017586591, 'membuat': 1.3719070789230268, 'sebagai': 1.3719070789230268, 'saja': 1.3719070789230268, 'beberapa': 1.3852710404810082, 'oleh': 1.3990593249666416, 'secara': 1.413299764081252, 'digunakan': 1.4280230209019582, 'berbagai': 1.3990593249666416, 'satu': 1.3990593249666416, 'maka': 1.413299764081252, 'sinyal': 1.4924810101288766, 'perlu': 1.4280230209019582, 'sudah': 1.4280230209019582, '5g': 1.443262987458695, 'jalan': 1.4924810101288766, 'tetap': 1.5102097770893081, 'baru': 1.443262987458695, 'konferensi': 1.443262987458695, 'jenis': 1.568201724066995, 'sangat': 1.459057254641927, 'menggunakan': 1.4754476708300963, 'apa': 1.5102097770893081, 'sampai': 1.5479983379787081, 'selain': 1.4924810101288766, 'tren': 1.5102097770893081, 'depan': 1.5286931827833214, 'listrik': 1.635148513697608, 'teman': 1.7764776664940776, 'cepat': 1.5102097770893081, 'namun': 1.5102097770893081, 'melakukan': 1.5286931827833214, 'sebuah': 1.5479983379787081, 'konten': 1.589391023136933, 'indonesia': 1.5479983379787081, 'dilakukan': 1.5479983379787081, 'memiliki': 1.5286931827833214, 'tersebut': 1.5286931827833214, 'lagi': 1.5479983379787081, 'mahal': 1.589391023136933, 'komputer': 1.6599720974226404, 'semakin': 1.6599720974226404, 'sehingga': 1.568201724066995, 'baik': 1.589391023136933, 'manusia': 1.568201724066995, 'adanya': 1.589391023136933, 'kesehatan': 1.6599720974226404, 'mudah': 1.589391023136933, 'jauh': 1.635148513697608, 'tahun': 1.635148513697608, 'sering': 1.6116674178480852, 'masing': 1.8904210188009143, 'cukup': 1.6116674178480852, 'serta': 1.635148513697608, 'kecil': 1.635148513697608, 'pengguna': 1.6863010361449895, 'brompton': 1.6116674178480852, 'hidup': 1.6863010361449895, 'memang': 1.6599720974226404, 'salah': 1.6599720974226404, 'mungkin': 1.635148513697608, 'penggunaan': 1.635148513697608, 'jaringan': 1.7442929831226763, 'tetapi': 1.6599720974226404, 'bahkan': 1.6599720974226404, 'lain': 1.6863010361449895, 'sekitar': 1.6863010361449895, 'tinggi': 1.6599720974226404, 'hari': 1.7764776664940776, 'mulai': 1.714329759745233, 'sama': 1.6863010361449895, 'memberikan': 1.6863010361449895, 'terjadi': 1.6599720974226404, 'perangkat': 1.714329759745233, 'wifi': 1.9361785093615893, 'digital': 1.6599720974226404, 'bisnis': 1.6599720974226404, 'perkembangan': 1.6863010361449895, 'pekerjaan': 1.714329759745233, 'sekarang': 1.6863010361449895, 'bersama': 1.6863010361449895, 'tempat': 1.714329759745233, 'tentu': 1.6863010361449895, 'harga': 1.8112397727532894, 'dunia': 1.714329759745233, 'jadi': 1.6863010361449895, 'tak': 1.6863010361449895, 'hingga': 1.6863010361449895, 'sendiri': 1.714329759745233, 'sedang': 1.714329759745233, 'bagi': 1.714329759745233, 'ketika': 1.714329759745233, 'tapi': 1.714329759745233, 'kembali': 1.714329759745233, 'waktu': 1.7442929831226763, 'misalnya': 1.714329759745233, 'kota': 1.7764776664940776, 'kerja': 1.7764776664940776, 'pandemi': 1.7442929831226763, 'mereka': 1.7442929831226763, 'meningkatkan': 1.7442929831226763, 'masih': 1.7764776664940776, 'agar': 1.7442929831226763, 'anak': 1.8904210188009143, 'virus': 1.9361785093615893, 'kondisi': 1.7764776664940776, 'normal': 1.8490283336426891, '2020': 1.7442929831226763, 'sumber': 1.7442929831226763, 'cara': 1.7764776664940776, 'penguat': 1.7764776664940776}\n"
          ],
          "name": "stdout"
        }
      ]
    },
    {
      "cell_type": "code",
      "metadata": {
        "id": "PJDvq9RA9_Jg",
        "outputId": "eaeef67d-f93a-4c1d-ac4b-dde040c94fee",
        "colab": {
          "base_uri": "https://localhost:8080/",
          "height": 51
        }
      },
      "source": [
        "# Mencari indeks untuk kata yang ada di topik tersebut\n",
        "idx = next((i for i,d in enumerate(word_idf_values3) if \"bersepeda\" in d), None)\n",
        "print(idx)\n",
        "idx = next((i for i,d in enumerate(word_idf_values3) if \"wifi\" in d), None)\n",
        "print(idx)"
      ],
      "execution_count": 223,
      "outputs": [
        {
          "output_type": "stream",
          "text": [
            "10\n",
            "113\n"
          ],
          "name": "stdout"
        }
      ]
    },
    {
      "cell_type": "code",
      "metadata": {
        "id": "DHAxfiVxB6pX",
        "outputId": "4ad7b37a-34bc-4d1c-f310-4e0228ade19e",
        "colab": {
          "base_uri": "https://localhost:8080/",
          "height": 34
        }
      },
      "source": [
        "cos_sim114 = cosinesimilarity(tf_idf_model3,10,113)\n",
        "print(cos_sim114)"
      ],
      "execution_count": 224,
      "outputs": [
        {
          "output_type": "stream",
          "text": [
            "0.0\n"
          ],
          "name": "stdout"
        }
      ]
    },
    {
      "cell_type": "markdown",
      "metadata": {
        "id": "wKQmTqfFZ7TM"
      },
      "source": [
        "# Co-occurrence term context"
      ]
    },
    {
      "cell_type": "code",
      "metadata": {
        "id": "4piXKCrEaVSj"
      },
      "source": [
        "# Fungsi untuk menghitung cosine similarity pada matriks cooccurrence \n",
        "def costermcontext(co_occurrence,wordfreq,katax,katay):\n",
        "  atas = 0\n",
        "  bawahkiri = 0\n",
        "  bawahkanan = 0\n",
        "  for kata in wordfreq.keys():\n",
        "    atas = atas + (co_occurrence[(katax,kata)] * co_occurrence[(katay,kata)])\n",
        "    bawahkiri = bawahkiri + pow(co_occurrence[(katax,kata)],2)\n",
        "    bawahkanan = bawahkanan + pow(co_occurrence[(katay,kata)],2)\n",
        "  cos_sim = atas / (math.sqrt(bawahkiri) * math.sqrt(bawahkanan))\n",
        "  return cos_sim"
      ],
      "execution_count": 225,
      "outputs": []
    },
    {
      "cell_type": "markdown",
      "metadata": {
        "id": "h_dg4PvAZy9N"
      },
      "source": [
        "## Berdasarkan matriks CO-OCCURRENCE TERM CONTEXT, hitung nilai cosine similarity antar kata dengan topik yang sama"
      ]
    },
    {
      "cell_type": "markdown",
      "metadata": {
        "id": "m1pE9zHUZy9X"
      },
      "source": [
        "### Cosine similarity antara kata bersepeda dengan orang\n",
        "Menggunakan matriks cooccurrence untuk topik A"
      ]
    },
    {
      "cell_type": "code",
      "metadata": {
        "id": "OtOP5pHPZy9Y",
        "outputId": "25b0e9a1-85f6-4de3-e81f-3de462f6d33c",
        "colab": {
          "base_uri": "https://localhost:8080/",
          "height": 34
        }
      },
      "source": [
        "cos_sim1 = costermcontext(co_occ1,wordfreq1,'bersepeda','orang')\n",
        "print(cos_sim1)"
      ],
      "execution_count": 226,
      "outputs": [
        {
          "output_type": "stream",
          "text": [
            "0.33607042288026867\n"
          ],
          "name": "stdout"
        }
      ]
    },
    {
      "cell_type": "markdown",
      "metadata": {
        "id": "wpVHqCDDXs8x"
      },
      "source": [
        "## Berdasarkan matriks CO-OCCURRENCE TERM CONTEXT, hitung nilai cosine similarity antar dokumen dengan topik yang berbeda"
      ]
    },
    {
      "cell_type": "markdown",
      "metadata": {
        "id": "zvKEdf4IXs84"
      },
      "source": [
        "### Cosine similarity antara kata bersepeda dengan wifi\n",
        "Menggunakan matriks cooccurrence untuk topik A+B"
      ]
    },
    {
      "cell_type": "code",
      "metadata": {
        "id": "a3dFxpjVvOwE",
        "outputId": "ca83be19-40ff-42bd-f355-2222f792c466",
        "colab": {
          "base_uri": "https://localhost:8080/",
          "height": 34
        }
      },
      "source": [
        "cos_sim3 = costermcontext(co_occ3,wordfreq3,'bersepeda','wifi')\n",
        "print(cos_sim3)"
      ],
      "execution_count": 227,
      "outputs": [
        {
          "output_type": "stream",
          "text": [
            "0.1902859235318149\n"
          ],
          "name": "stdout"
        }
      ]
    },
    {
      "cell_type": "markdown",
      "metadata": {
        "id": "CgRG1A8LCQk3"
      },
      "source": [
        "# Matriks PPMI antar kata"
      ]
    },
    {
      "cell_type": "markdown",
      "metadata": {
        "id": "Sg8bKXKHE5By"
      },
      "source": [
        "### nilai ppmi antar kata topik sama"
      ]
    },
    {
      "cell_type": "code",
      "metadata": {
        "id": "nMiilBa1CYWn",
        "outputId": "398639fa-d145-4295-dad7-e7cf5fdc968e",
        "colab": {
          "base_uri": "https://localhost:8080/",
          "height": 34
        }
      },
      "source": [
        "print(ppmi_mat1[('bersepeda','orang')])"
      ],
      "execution_count": 180,
      "outputs": [
        {
          "output_type": "stream",
          "text": [
            "0.1802\n"
          ],
          "name": "stdout"
        }
      ]
    },
    {
      "cell_type": "markdown",
      "metadata": {
        "id": "-NZynsrGFA3w"
      },
      "source": [
        "### nilai ppmi antar kata topik berbeda"
      ]
    },
    {
      "cell_type": "code",
      "metadata": {
        "id": "CgBv_1fUC-C5",
        "outputId": "62eaa87a-461f-478a-fed6-0f91521cfa87",
        "colab": {
          "base_uri": "https://localhost:8080/",
          "height": 34
        }
      },
      "source": [
        "print(ppmi_mat3[('bersepeda','wifi')])"
      ],
      "execution_count": 181,
      "outputs": [
        {
          "output_type": "stream",
          "text": [
            "None\n"
          ],
          "name": "stdout"
        }
      ]
    }
  ]
}