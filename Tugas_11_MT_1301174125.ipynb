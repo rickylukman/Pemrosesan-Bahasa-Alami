{
  "nbformat": 4,
  "nbformat_minor": 0,
  "metadata": {
    "colab": {
      "name": "NLP pekan 11_1301174125",
      "provenance": [],
      "collapsed_sections": []
    },
    "kernelspec": {
      "name": "python3",
      "display_name": "Python 3"
    }
  },
  "cells": [
    {
      "cell_type": "code",
      "metadata": {
        "id": "I9UxNaPqztjI"
      },
      "source": [
        "from nltk.translate import Alignment, AlignedSent\n",
        "from nltk.translate import IBMModel1"
      ],
      "execution_count": 1,
      "outputs": []
    },
    {
      "cell_type": "markdown",
      "metadata": {
        "id": "lJtrklR2n73Q"
      },
      "source": [
        "Pendefinisian korpus dan alignment"
      ]
    },
    {
      "cell_type": "code",
      "metadata": {
        "id": "YMxP5BPM31RU"
      },
      "source": [
        "bitext = []\n",
        "bitext.append(AlignedSent(['makan', 'nasi', 'jagung'], ['mangan', 'sego', 'jagung'], Alignment( [ (0 , 0), (1 , 1), (2 , 2)] )))\n",
        "bitext.append(AlignedSent(['pergi', 'ke', 'sekolah'], ['budal', 'teng', 'sekolah'], Alignment( [ (0 , 0), (1 , 1), (2 , 2)] )))\n",
        "bitext.append(AlignedSent(['belanja', 'ke', 'pasar'], ['blonjo', 'teng', 'peken'], Alignment( [ (0 , 0), (1 , 1), (2 , 2)] )))\n",
        "bitext.append(AlignedSent(['memberi', 'makan', 'ikan'], ['ngekei', 'mangan', 'iwak'], Alignment( [ (0 , 0), (1 , 1), (2 , 2)] )))\n",
        "bitext.append(AlignedSent(['susu', 'sapi', 'seger'], ['susu', 'sapi', 'seger'], Alignment( [ (0 , 0), (1 , 1), (2 , 2)] )))\n",
        "bitext.append(AlignedSent(['memetik', 'mangga', 'tetangga'], ['metik', 'poh', 'tonggo'], Alignment( [ (0 , 0), (1 , 1), (2 , 2)] )))\n",
        "bitext.append(AlignedSent(['bermain', 'dengan', 'teman'], ['dolan', 'karo', 'konco'], Alignment( [ (0 , 0), (1 , 1), (2 , 2)] )))\n",
        "bitext.append(AlignedSent(['membersihkan', 'rumah', 'sendiri'], ['ngeresiki', 'omah', 'dewe'], Alignment( [ (0 , 0), (1 , 1), (2 , 2)] )))\n",
        "bitext.append(AlignedSent(['hidup', 'banyak', 'rintangan'], ['urip', 'akeh', 'rintangan'], Alignment( [ (0 , 0), (1 , 1), (2 , 2)] )))\n",
        "bitext.append(AlignedSent(['cinta', 'karena', 'terbiasa'], ['tresno', 'mergo', 'kulino'], Alignment( [ (0 , 0), (1 , 1), (2 , 2)] )))\n",
        "bitext.append(AlignedSent(['sudah', 'kelas', 'satu'], ['wes', 'kelas', 'siji'], Alignment( [ (0 , 0), (1 , 1), (2 , 2)] )))\n",
        "bitext.append(AlignedSent(['tempat', 'menaruh', 'uang'], ['panggon', 'deleh', 'duek'], Alignment( [ (0 , 0), (1 , 1), (2 , 2)] )))\n",
        "bitext.append(AlignedSent(['bukunya', 'dipinjam', 'siapa'], ['bukune', 'disilih', 'sopo'], Alignment( [ (0 , 0), (1 , 1), (2 , 2)] )))\n",
        "bitext.append(AlignedSent(['mainan', 'baru', 'mahal'], ['dolanan', 'anyar', 'larang'], Alignment( [ (0 , 0), (1 , 1), (2 , 2)] )))\n",
        "bitext.append(AlignedSent(['hewan', 'masuk', 'kandang'], ['kewan', 'mlebu', 'kandang'], Alignment( [ (0 , 0), (1 , 1), (2 , 2)] )))\n",
        "bitext.append(AlignedSent(['barang', 'itu', 'mahal'], ['barang', 'iku', 'larang'], Alignment( [ (0 , 0), (1 , 1), (2 , 2)] )))\n",
        "bitext.append(AlignedSent(['mainan', 'mahal', 'rusak'], ['dolanan', 'larang', 'rusak'], Alignment( [ (0 , 0), (1 , 1), (2 , 2)] )))\n",
        "bitext.append(AlignedSent(['semua', 'bakal', 'mati'], ['kabeh', 'bakal', 'sedo'], Alignment( [ (0 , 0), (1 , 1), (2 , 2)] )))\n",
        "bitext.append(AlignedSent(['makan', 'dengan', 'teman'], ['mangan', 'karo', 'konco'], Alignment( [ (0 , 0), (1 , 1), (2 , 2)] )))\n",
        "bitext.append(AlignedSent(['cinta', 'dengan', 'teman'], ['tresno', 'karo', 'konco'], Alignment( [ (0 , 0), (1 , 1), (2 , 2)] )))\\"
      ],
      "execution_count": 2,
      "outputs": []
    },
    {
      "cell_type": "markdown",
      "metadata": {
        "id": "5pYv_cbVoE7O"
      },
      "source": [
        "Pelatihan"
      ]
    },
    {
      "cell_type": "code",
      "metadata": {
        "id": "PUoWqq3M9boV"
      },
      "source": [
        "com_ibm1 = IBMModel1(bitext, 5)"
      ],
      "execution_count": 3,
      "outputs": []
    },
    {
      "cell_type": "markdown",
      "metadata": {
        "id": "0bLUiqrboGo3"
      },
      "source": [
        "Skor probability antar kata"
      ]
    },
    {
      "cell_type": "code",
      "metadata": {
        "colab": {
          "base_uri": "https://localhost:8080/"
        },
        "id": "fSs2h8ON9g5T",
        "outputId": "58900c33-60ae-4066-e398-46dabe911211"
      },
      "source": [
        "print(round(com_ibm1.translation_table[\"makan\"][\"mangan\"], 3) )"
      ],
      "execution_count": 4,
      "outputs": [
        {
          "output_type": "stream",
          "text": [
            "0.946\n"
          ],
          "name": "stdout"
        }
      ]
    },
    {
      "cell_type": "code",
      "metadata": {
        "colab": {
          "base_uri": "https://localhost:8080/"
        },
        "id": "8sbj1K2A93mI",
        "outputId": "20d973b6-99de-40a0-c8d7-0c2eb01e0656"
      },
      "source": [
        "print(round(com_ibm1.translation_table[\"ikan\"][\"iwak\"], 3) )"
      ],
      "execution_count": 5,
      "outputs": [
        {
          "output_type": "stream",
          "text": [
            "0.453\n"
          ],
          "name": "stdout"
        }
      ]
    },
    {
      "cell_type": "code",
      "metadata": {
        "colab": {
          "base_uri": "https://localhost:8080/"
        },
        "id": "99a_aNvt9okX",
        "outputId": "929f0d10-313c-4073-a745-fdd64251c6c8"
      },
      "source": [
        "print(round(com_ibm1.translation_table[\"teman\"][\"konco\"], 3) )"
      ],
      "execution_count": 6,
      "outputs": [
        {
          "output_type": "stream",
          "text": [
            "0.488\n"
          ],
          "name": "stdout"
        }
      ]
    },
    {
      "cell_type": "code",
      "metadata": {
        "colab": {
          "base_uri": "https://localhost:8080/",
          "height": 176
        },
        "id": "FoLlCYie9aDN",
        "outputId": "de95a8f8-f049-414c-9b81-0a21e7bafdc3"
      },
      "source": [
        "bitext[0].invert()"
      ],
      "execution_count": 7,
      "outputs": [
        {
          "output_type": "execute_result",
          "data": {
            "text/plain": [
              "AlignedSent(['mangan', 'sego', 'jagung'], ['makan', 'nasi', 'jagung'], Alignment([(0, 0), (2, 1), (2, 2)]))"
            ],
            "image/svg+xml": "<?xml version=\"1.0\" encoding=\"UTF-8\" standalone=\"no\"?>\n<!DOCTYPE svg PUBLIC \"-//W3C//DTD SVG 1.1//EN\"\n \"http://www.w3.org/Graphics/SVG/1.1/DTD/svg11.dtd\">\n<!-- Generated by graphviz version 2.40.1 (20161225.0304)\n -->\n<!-- Title: align Pages: 1 -->\n<svg width=\"216pt\" height=\"116pt\"\n viewBox=\"0.00 0.00 216.00 116.00\" xmlns=\"http://www.w3.org/2000/svg\" xmlns:xlink=\"http://www.w3.org/1999/xlink\">\n<g id=\"graph0\" class=\"graph\" transform=\"scale(1 1) rotate(0) translate(4 112)\">\n<title>align</title>\n<polygon fill=\"#ffffff\" stroke=\"transparent\" points=\"-4,4 -4,-112 212,-112 212,4 -4,4\"/>\n<!-- mangan_source -->\n<g id=\"node1\" class=\"node\">\n<title>mangan_source</title>\n<text text-anchor=\"middle\" x=\"31\" y=\"-86.3\" font-family=\"Times,serif\" font-size=\"14.00\" fill=\"#000000\">mangan</text>\n</g>\n<!-- sego_source -->\n<g id=\"node2\" class=\"node\">\n<title>sego_source</title>\n<text text-anchor=\"middle\" x=\"107\" y=\"-86.3\" font-family=\"Times,serif\" font-size=\"14.00\" fill=\"#000000\">sego</text>\n</g>\n<!-- mangan_source&#45;&#45;sego_source -->\n<!-- makan_target -->\n<g id=\"node4\" class=\"node\">\n<title>makan_target</title>\n<text text-anchor=\"middle\" x=\"33\" y=\"-14.3\" font-family=\"Times,serif\" font-size=\"14.00\" fill=\"#000000\">makan</text>\n</g>\n<!-- mangan_source&#45;&#45;makan_target -->\n<g id=\"edge1\" class=\"edge\">\n<title>mangan_source&#45;&#45;makan_target</title>\n<path fill=\"none\" stroke=\"#000000\" d=\"M31.5047,-71.8314C31.8056,-61 32.1865,-47.2876 32.4885,-36.4133\"/>\n</g>\n<!-- jagung_source -->\n<g id=\"node3\" class=\"node\">\n<title>jagung_source</title>\n<text text-anchor=\"middle\" x=\"180\" y=\"-86.3\" font-family=\"Times,serif\" font-size=\"14.00\" fill=\"#000000\">jagung</text>\n</g>\n<!-- sego_source&#45;&#45;jagung_source -->\n<!-- nasi_target -->\n<g id=\"node5\" class=\"node\">\n<title>nasi_target</title>\n<text text-anchor=\"middle\" x=\"107\" y=\"-14.3\" font-family=\"Times,serif\" font-size=\"14.00\" fill=\"#000000\">nasi</text>\n</g>\n<!-- jagung_source&#45;&#45;nasi_target -->\n<g id=\"edge2\" class=\"edge\">\n<title>jagung_source&#45;&#45;nasi_target</title>\n<path fill=\"none\" stroke=\"#000000\" d=\"M161.579,-71.8314C150.5128,-60.9167 136.4803,-47.0764 125.4151,-36.1628\"/>\n</g>\n<!-- jagung_target -->\n<g id=\"node6\" class=\"node\">\n<title>jagung_target</title>\n<text text-anchor=\"middle\" x=\"180\" y=\"-14.3\" font-family=\"Times,serif\" font-size=\"14.00\" fill=\"#000000\">jagung</text>\n</g>\n<!-- jagung_source&#45;&#45;jagung_target -->\n<g id=\"edge3\" class=\"edge\">\n<title>jagung_source&#45;&#45;jagung_target</title>\n<path fill=\"none\" stroke=\"#000000\" d=\"M180,-71.8314C180,-61 180,-47.2876 180,-36.4133\"/>\n</g>\n<!-- makan_target&#45;&#45;nasi_target -->\n<!-- nasi_target&#45;&#45;jagung_target -->\n</g>\n</svg>\n"
          },
          "metadata": {
            "tags": []
          },
          "execution_count": 7
        }
      ]
    },
    {
      "cell_type": "code",
      "metadata": {
        "colab": {
          "base_uri": "https://localhost:8080/",
          "height": 176
        },
        "id": "mn6YSWPTU0QZ",
        "outputId": "584619cd-6bcf-4473-b5cf-543fb6cad682"
      },
      "source": [
        "bitext[3].invert()"
      ],
      "execution_count": 8,
      "outputs": [
        {
          "output_type": "execute_result",
          "data": {
            "text/plain": [
              "AlignedSent(['ngekei', 'mangan', 'iwak'], ['memberi', 'makan', 'ikan'], Alignment([(1, 1), (2, 0), (2, 2)]))"
            ],
            "image/svg+xml": "<?xml version=\"1.0\" encoding=\"UTF-8\" standalone=\"no\"?>\n<!DOCTYPE svg PUBLIC \"-//W3C//DTD SVG 1.1//EN\"\n \"http://www.w3.org/Graphics/SVG/1.1/DTD/svg11.dtd\">\n<!-- Generated by graphviz version 2.40.1 (20161225.0304)\n -->\n<!-- Title: align Pages: 1 -->\n<svg width=\"221pt\" height=\"116pt\"\n viewBox=\"0.00 0.00 220.50 116.00\" xmlns=\"http://www.w3.org/2000/svg\" xmlns:xlink=\"http://www.w3.org/1999/xlink\">\n<g id=\"graph0\" class=\"graph\" transform=\"scale(1 1) rotate(0) translate(4 112)\">\n<title>align</title>\n<polygon fill=\"#ffffff\" stroke=\"transparent\" points=\"-4,4 -4,-112 216.5,-112 216.5,4 -4,4\"/>\n<!-- ngekei_source -->\n<g id=\"node1\" class=\"node\">\n<title>ngekei_source</title>\n<text text-anchor=\"middle\" x=\"32.5\" y=\"-86.3\" font-family=\"Times,serif\" font-size=\"14.00\" fill=\"#000000\">ngekei</text>\n</g>\n<!-- mangan_source -->\n<g id=\"node2\" class=\"node\">\n<title>mangan_source</title>\n<text text-anchor=\"middle\" x=\"109.5\" y=\"-86.3\" font-family=\"Times,serif\" font-size=\"14.00\" fill=\"#000000\">mangan</text>\n</g>\n<!-- ngekei_source&#45;&#45;mangan_source -->\n<!-- iwak_source -->\n<g id=\"node3\" class=\"node\">\n<title>iwak_source</title>\n<text text-anchor=\"middle\" x=\"185.5\" y=\"-86.3\" font-family=\"Times,serif\" font-size=\"14.00\" fill=\"#000000\">iwak</text>\n</g>\n<!-- mangan_source&#45;&#45;iwak_source -->\n<!-- makan_target -->\n<g id=\"node5\" class=\"node\">\n<title>makan_target</title>\n<text text-anchor=\"middle\" x=\"112.5\" y=\"-14.3\" font-family=\"Times,serif\" font-size=\"14.00\" fill=\"#000000\">makan</text>\n</g>\n<!-- mangan_source&#45;&#45;makan_target -->\n<g id=\"edge2\" class=\"edge\">\n<title>mangan_source&#45;&#45;makan_target</title>\n<path fill=\"none\" stroke=\"#000000\" d=\"M110.257,-71.8314C110.7083,-61 111.2797,-47.2876 111.7328,-36.4133\"/>\n</g>\n<!-- memberi_target -->\n<g id=\"node4\" class=\"node\">\n<title>memberi_target</title>\n<text text-anchor=\"middle\" x=\"33.5\" y=\"-14.3\" font-family=\"Times,serif\" font-size=\"14.00\" fill=\"#000000\">memberi</text>\n</g>\n<!-- iwak_source&#45;&#45;memberi_target -->\n<g id=\"edge1\" class=\"edge\">\n<title>iwak_source&#45;&#45;memberi_target</title>\n<path fill=\"none\" stroke=\"#000000\" d=\"M158.4132,-76.3552C155.4117,-74.8734 152.3948,-73.3972 149.5,-72 121.8919,-58.6752 90.3406,-44.0244 67.1198,-33.3493\"/>\n</g>\n<!-- ikan_target -->\n<g id=\"node6\" class=\"node\">\n<title>ikan_target</title>\n<text text-anchor=\"middle\" x=\"185.5\" y=\"-14.3\" font-family=\"Times,serif\" font-size=\"14.00\" fill=\"#000000\">ikan</text>\n</g>\n<!-- iwak_source&#45;&#45;ikan_target -->\n<g id=\"edge3\" class=\"edge\">\n<title>iwak_source&#45;&#45;ikan_target</title>\n<path fill=\"none\" stroke=\"#000000\" d=\"M185.5,-71.8314C185.5,-61 185.5,-47.2876 185.5,-36.4133\"/>\n</g>\n<!-- memberi_target&#45;&#45;makan_target -->\n<!-- makan_target&#45;&#45;ikan_target -->\n</g>\n</svg>\n"
          },
          "metadata": {
            "tags": []
          },
          "execution_count": 8
        }
      ]
    },
    {
      "cell_type": "code",
      "metadata": {
        "colab": {
          "base_uri": "https://localhost:8080/",
          "height": 176
        },
        "id": "12KQbPdcUyUx",
        "outputId": "c09b0a5a-4925-4128-bdfd-5244731487c3"
      },
      "source": [
        "bitext[6].invert()"
      ],
      "execution_count": 9,
      "outputs": [
        {
          "output_type": "execute_result",
          "data": {
            "text/plain": [
              "AlignedSent(['dolan', 'karo', 'konco'], ['bermain', 'dengan', 'teman'], Alignment([(0, 0), (2, 1), (2, 2)]))"
            ],
            "image/svg+xml": "<?xml version=\"1.0\" encoding=\"UTF-8\" standalone=\"no\"?>\n<!DOCTYPE svg PUBLIC \"-//W3C//DTD SVG 1.1//EN\"\n \"http://www.w3.org/Graphics/SVG/1.1/DTD/svg11.dtd\">\n<!-- Generated by graphviz version 2.40.1 (20161225.0304)\n -->\n<!-- Title: align Pages: 1 -->\n<svg width=\"221pt\" height=\"116pt\"\n viewBox=\"0.00 0.00 220.50 116.00\" xmlns=\"http://www.w3.org/2000/svg\" xmlns:xlink=\"http://www.w3.org/1999/xlink\">\n<g id=\"graph0\" class=\"graph\" transform=\"scale(1 1) rotate(0) translate(4 112)\">\n<title>align</title>\n<polygon fill=\"#ffffff\" stroke=\"transparent\" points=\"-4,4 -4,-112 216.5,-112 216.5,4 -4,4\"/>\n<!-- dolan_source -->\n<g id=\"node1\" class=\"node\">\n<title>dolan_source</title>\n<text text-anchor=\"middle\" x=\"31.5\" y=\"-86.3\" font-family=\"Times,serif\" font-size=\"14.00\" fill=\"#000000\">dolan</text>\n</g>\n<!-- karo_source -->\n<g id=\"node2\" class=\"node\">\n<title>karo_source</title>\n<text text-anchor=\"middle\" x=\"103.5\" y=\"-86.3\" font-family=\"Times,serif\" font-size=\"14.00\" fill=\"#000000\">karo</text>\n</g>\n<!-- dolan_source&#45;&#45;karo_source -->\n<!-- bermain_target -->\n<g id=\"node4\" class=\"node\">\n<title>bermain_target</title>\n<text text-anchor=\"middle\" x=\"31.5\" y=\"-14.3\" font-family=\"Times,serif\" font-size=\"14.00\" fill=\"#000000\">bermain</text>\n</g>\n<!-- dolan_source&#45;&#45;bermain_target -->\n<g id=\"edge1\" class=\"edge\">\n<title>dolan_source&#45;&#45;bermain_target</title>\n<path fill=\"none\" stroke=\"#000000\" d=\"M31.5,-71.8314C31.5,-61 31.5,-47.2876 31.5,-36.4133\"/>\n</g>\n<!-- konco_source -->\n<g id=\"node3\" class=\"node\">\n<title>konco_source</title>\n<text text-anchor=\"middle\" x=\"175.5\" y=\"-86.3\" font-family=\"Times,serif\" font-size=\"14.00\" fill=\"#000000\">konco</text>\n</g>\n<!-- karo_source&#45;&#45;konco_source -->\n<!-- dengan_target -->\n<g id=\"node5\" class=\"node\">\n<title>dengan_target</title>\n<text text-anchor=\"middle\" x=\"110.5\" y=\"-14.3\" font-family=\"Times,serif\" font-size=\"14.00\" fill=\"#000000\">dengan</text>\n</g>\n<!-- konco_source&#45;&#45;dengan_target -->\n<g id=\"edge2\" class=\"edge\">\n<title>konco_source&#45;&#45;dengan_target</title>\n<path fill=\"none\" stroke=\"#000000\" d=\"M159.0978,-71.8314C149.3195,-61 136.9402,-47.2876 127.1231,-36.4133\"/>\n</g>\n<!-- teman_target -->\n<g id=\"node6\" class=\"node\">\n<title>teman_target</title>\n<text text-anchor=\"middle\" x=\"185.5\" y=\"-14.3\" font-family=\"Times,serif\" font-size=\"14.00\" fill=\"#000000\">teman</text>\n</g>\n<!-- konco_source&#45;&#45;teman_target -->\n<g id=\"edge3\" class=\"edge\">\n<title>konco_source&#45;&#45;teman_target</title>\n<path fill=\"none\" stroke=\"#000000\" d=\"M178.0234,-71.8314C179.5278,-61 181.4323,-47.2876 182.9426,-36.4133\"/>\n</g>\n<!-- bermain_target&#45;&#45;dengan_target -->\n<!-- dengan_target&#45;&#45;teman_target -->\n</g>\n</svg>\n"
          },
          "metadata": {
            "tags": []
          },
          "execution_count": 9
        }
      ]
    },
    {
      "cell_type": "code",
      "metadata": {
        "id": "R9MZz8nC97ft"
      },
      "source": [
        ""
      ],
      "execution_count": 9,
      "outputs": []
    }
  ]
}